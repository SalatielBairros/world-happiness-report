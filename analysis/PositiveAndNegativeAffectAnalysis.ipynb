{
 "cells": [
  {
   "cell_type": "markdown",
   "metadata": {},
   "source": [
    "## Preparando o ambiente"
   ]
  },
  {
   "cell_type": "code",
   "execution_count": 1,
   "metadata": {},
   "outputs": [],
   "source": [
    "import pandas as pd\n",
    "import matplotlib.pyplot as plt\n",
    "import seaborn as sns\n",
    "import numpy as np"
   ]
  },
  {
   "cell_type": "markdown",
   "metadata": {},
   "source": [
    "## Carregando os dados"
   ]
  },
  {
   "cell_type": "code",
   "execution_count": 9,
   "metadata": {},
   "outputs": [
    {
     "data": {
      "text/html": [
       "<div>\n",
       "<style scoped>\n",
       "    .dataframe tbody tr th:only-of-type {\n",
       "        vertical-align: middle;\n",
       "    }\n",
       "\n",
       "    .dataframe tbody tr th {\n",
       "        vertical-align: top;\n",
       "    }\n",
       "\n",
       "    .dataframe thead th {\n",
       "        text-align: right;\n",
       "    }\n",
       "</style>\n",
       "<table border=\"1\" class=\"dataframe\">\n",
       "  <thead>\n",
       "    <tr style=\"text-align: right;\">\n",
       "      <th></th>\n",
       "      <th>country</th>\n",
       "      <th>region</th>\n",
       "      <th>score</th>\n",
       "      <th>gdp</th>\n",
       "      <th>social_support</th>\n",
       "      <th>hle</th>\n",
       "      <th>freedom</th>\n",
       "      <th>generosity</th>\n",
       "      <th>corruption</th>\n",
       "      <th>positive_affect</th>\n",
       "      <th>negative_affect</th>\n",
       "      <th>year</th>\n",
       "    </tr>\n",
       "  </thead>\n",
       "  <tbody>\n",
       "    <tr>\n",
       "      <th>0</th>\n",
       "      <td>afghanistan</td>\n",
       "      <td>asia</td>\n",
       "      <td>3.723590</td>\n",
       "      <td>7.370100</td>\n",
       "      <td>0.450662</td>\n",
       "      <td>50.799999</td>\n",
       "      <td>0.718114</td>\n",
       "      <td>0.167640</td>\n",
       "      <td>0.881686</td>\n",
       "      <td>0.517637</td>\n",
       "      <td>0.258195</td>\n",
       "      <td>2008</td>\n",
       "    </tr>\n",
       "    <tr>\n",
       "      <th>1</th>\n",
       "      <td>afghanistan</td>\n",
       "      <td>asia</td>\n",
       "      <td>4.401778</td>\n",
       "      <td>7.539972</td>\n",
       "      <td>0.552308</td>\n",
       "      <td>51.200001</td>\n",
       "      <td>0.678896</td>\n",
       "      <td>0.190099</td>\n",
       "      <td>0.850035</td>\n",
       "      <td>0.583926</td>\n",
       "      <td>0.237092</td>\n",
       "      <td>2009</td>\n",
       "    </tr>\n",
       "    <tr>\n",
       "      <th>2</th>\n",
       "      <td>afghanistan</td>\n",
       "      <td>asia</td>\n",
       "      <td>4.758381</td>\n",
       "      <td>7.646709</td>\n",
       "      <td>0.539075</td>\n",
       "      <td>51.599998</td>\n",
       "      <td>0.600127</td>\n",
       "      <td>0.120590</td>\n",
       "      <td>0.706766</td>\n",
       "      <td>0.618265</td>\n",
       "      <td>0.275324</td>\n",
       "      <td>2010</td>\n",
       "    </tr>\n",
       "    <tr>\n",
       "      <th>3</th>\n",
       "      <td>afghanistan</td>\n",
       "      <td>asia</td>\n",
       "      <td>3.831719</td>\n",
       "      <td>7.619532</td>\n",
       "      <td>0.521104</td>\n",
       "      <td>51.919998</td>\n",
       "      <td>0.495901</td>\n",
       "      <td>0.162427</td>\n",
       "      <td>0.731109</td>\n",
       "      <td>0.611387</td>\n",
       "      <td>0.267175</td>\n",
       "      <td>2011</td>\n",
       "    </tr>\n",
       "    <tr>\n",
       "      <th>4</th>\n",
       "      <td>afghanistan</td>\n",
       "      <td>asia</td>\n",
       "      <td>3.782938</td>\n",
       "      <td>7.705479</td>\n",
       "      <td>0.520637</td>\n",
       "      <td>52.240002</td>\n",
       "      <td>0.530935</td>\n",
       "      <td>0.236032</td>\n",
       "      <td>0.775620</td>\n",
       "      <td>0.710385</td>\n",
       "      <td>0.267919</td>\n",
       "      <td>2012</td>\n",
       "    </tr>\n",
       "    <tr>\n",
       "      <th>...</th>\n",
       "      <td>...</td>\n",
       "      <td>...</td>\n",
       "      <td>...</td>\n",
       "      <td>...</td>\n",
       "      <td>...</td>\n",
       "      <td>...</td>\n",
       "      <td>...</td>\n",
       "      <td>...</td>\n",
       "      <td>...</td>\n",
       "      <td>...</td>\n",
       "      <td>...</td>\n",
       "      <td>...</td>\n",
       "    </tr>\n",
       "    <tr>\n",
       "      <th>2093</th>\n",
       "      <td>lesotho</td>\n",
       "      <td>sub-saharan africa</td>\n",
       "      <td>3.511800</td>\n",
       "      <td>7.925777</td>\n",
       "      <td>0.786871</td>\n",
       "      <td>48.700001</td>\n",
       "      <td>0.714954</td>\n",
       "      <td>-0.130536</td>\n",
       "      <td>0.915377</td>\n",
       "      <td>0.734880</td>\n",
       "      <td>0.273426</td>\n",
       "      <td>2021</td>\n",
       "    </tr>\n",
       "    <tr>\n",
       "      <th>2094</th>\n",
       "      <td>botswana</td>\n",
       "      <td>sub-saharan africa</td>\n",
       "      <td>3.466500</td>\n",
       "      <td>9.781536</td>\n",
       "      <td>0.784171</td>\n",
       "      <td>59.269188</td>\n",
       "      <td>0.824394</td>\n",
       "      <td>-0.246159</td>\n",
       "      <td>0.800619</td>\n",
       "      <td>0.711796</td>\n",
       "      <td>0.272722</td>\n",
       "      <td>2021</td>\n",
       "    </tr>\n",
       "    <tr>\n",
       "      <th>2095</th>\n",
       "      <td>rwanda</td>\n",
       "      <td>sub-saharan africa</td>\n",
       "      <td>3.414700</td>\n",
       "      <td>7.676118</td>\n",
       "      <td>0.552339</td>\n",
       "      <td>61.399727</td>\n",
       "      <td>0.896758</td>\n",
       "      <td>0.060526</td>\n",
       "      <td>0.166801</td>\n",
       "      <td>0.736068</td>\n",
       "      <td>0.417668</td>\n",
       "      <td>2021</td>\n",
       "    </tr>\n",
       "    <tr>\n",
       "      <th>2096</th>\n",
       "      <td>zimbabwe</td>\n",
       "      <td>sub-saharan africa</td>\n",
       "      <td>3.144800</td>\n",
       "      <td>7.942595</td>\n",
       "      <td>0.750470</td>\n",
       "      <td>56.200840</td>\n",
       "      <td>0.676700</td>\n",
       "      <td>-0.047346</td>\n",
       "      <td>0.820999</td>\n",
       "      <td>0.702573</td>\n",
       "      <td>0.345736</td>\n",
       "      <td>2021</td>\n",
       "    </tr>\n",
       "    <tr>\n",
       "      <th>2097</th>\n",
       "      <td>afghanistan</td>\n",
       "      <td>asia</td>\n",
       "      <td>2.522900</td>\n",
       "      <td>7.694710</td>\n",
       "      <td>0.462596</td>\n",
       "      <td>52.492615</td>\n",
       "      <td>0.381749</td>\n",
       "      <td>-0.101684</td>\n",
       "      <td>0.924338</td>\n",
       "      <td>0.351387</td>\n",
       "      <td>0.502474</td>\n",
       "      <td>2021</td>\n",
       "    </tr>\n",
       "  </tbody>\n",
       "</table>\n",
       "<p>2098 rows × 12 columns</p>\n",
       "</div>"
      ],
      "text/plain": [
       "          country              region     score       gdp  social_support  \\\n",
       "0     afghanistan                asia  3.723590  7.370100        0.450662   \n",
       "1     afghanistan                asia  4.401778  7.539972        0.552308   \n",
       "2     afghanistan                asia  4.758381  7.646709        0.539075   \n",
       "3     afghanistan                asia  3.831719  7.619532        0.521104   \n",
       "4     afghanistan                asia  3.782938  7.705479        0.520637   \n",
       "...           ...                 ...       ...       ...             ...   \n",
       "2093      lesotho  sub-saharan africa  3.511800  7.925777        0.786871   \n",
       "2094     botswana  sub-saharan africa  3.466500  9.781536        0.784171   \n",
       "2095       rwanda  sub-saharan africa  3.414700  7.676118        0.552339   \n",
       "2096     zimbabwe  sub-saharan africa  3.144800  7.942595        0.750470   \n",
       "2097  afghanistan                asia  2.522900  7.694710        0.462596   \n",
       "\n",
       "            hle   freedom  generosity  corruption  positive_affect  \\\n",
       "0     50.799999  0.718114    0.167640    0.881686         0.517637   \n",
       "1     51.200001  0.678896    0.190099    0.850035         0.583926   \n",
       "2     51.599998  0.600127    0.120590    0.706766         0.618265   \n",
       "3     51.919998  0.495901    0.162427    0.731109         0.611387   \n",
       "4     52.240002  0.530935    0.236032    0.775620         0.710385   \n",
       "...         ...       ...         ...         ...              ...   \n",
       "2093  48.700001  0.714954   -0.130536    0.915377         0.734880   \n",
       "2094  59.269188  0.824394   -0.246159    0.800619         0.711796   \n",
       "2095  61.399727  0.896758    0.060526    0.166801         0.736068   \n",
       "2096  56.200840  0.676700   -0.047346    0.820999         0.702573   \n",
       "2097  52.492615  0.381749   -0.101684    0.924338         0.351387   \n",
       "\n",
       "      negative_affect  year  \n",
       "0            0.258195  2008  \n",
       "1            0.237092  2009  \n",
       "2            0.275324  2010  \n",
       "3            0.267175  2011  \n",
       "4            0.267919  2012  \n",
       "...               ...   ...  \n",
       "2093         0.273426  2021  \n",
       "2094         0.272722  2021  \n",
       "2095         0.417668  2021  \n",
       "2096         0.345736  2021  \n",
       "2097         0.502474  2021  \n",
       "\n",
       "[2098 rows x 12 columns]"
      ]
     },
     "execution_count": 9,
     "metadata": {},
     "output_type": "execute_result"
    }
   ],
   "source": [
    "dataset = pd.read_csv('../data/complete_dataset_region/complete_dataset_region.csv')\n",
    "dataset"
   ]
  },
  {
   "cell_type": "markdown",
   "metadata": {},
   "source": [
    "## Análises"
   ]
  },
  {
   "cell_type": "markdown",
   "metadata": {},
   "source": [
    "Lista dos atributos que serão analisados:\n",
    "\n",
    "* positive_affect\n",
    "* negative_affect"
   ]
  },
  {
   "cell_type": "markdown",
   "metadata": {},
   "source": [
    "#### 1. Quantos países estão presentes nos dados?"
   ]
  },
  {
   "cell_type": "code",
   "execution_count": 45,
   "metadata": {},
   "outputs": [
    {
     "data": {
      "text/plain": [
       "165"
      ]
     },
     "execution_count": 45,
     "metadata": {},
     "output_type": "execute_result"
    }
   ],
   "source": [
    "len(dataset['country'].unique())"
   ]
  },
  {
   "cell_type": "markdown",
   "metadata": {},
   "source": [
    "### `positive_affect`"
   ]
  },
  {
   "cell_type": "markdown",
   "metadata": {},
   "source": [
    "#### Analise a ser respondida"
   ]
  },
  {
   "cell_type": "markdown",
   "metadata": {},
   "source": [
    "Existe um número razoável de valores zerados. Será que seriam valores faltantes ou realmente países onde a resposta foi zero?\n",
    "\n",
    "Há 153 registros que o atributo está com valor 0, onde:\n",
    "  - 2005 = 1\n",
    "  - 2009 = 1\n",
    "  - 2010 = 2\n",
    "  - 2021 = 149\n",
    "\n",
    "Contém apenas um registro onde o \"negative_affects\" tambem não é zerado\n",
    "\n",
    "```\n",
    "pakistan\tasia\t5.22\t8.22\t0.59\t54.2\t0.63\t0.1\t0.84\t\"0\"\t\"0.24\"\t2005\n",
    "\n",
    "```\n",
    "\n",
    "Nenhum país se repete no mesmo ano"
   ]
  },
  {
   "cell_type": "code",
   "execution_count": null,
   "metadata": {},
   "outputs": [
    {
     "name": "stdout",
     "output_type": "stream",
     "text": [
      "         Country  Positive_affect\n",
      "0        algeria                0\n",
      "1        morocco                0\n",
      "2       pakistan                0\n",
      "3        tunisia                0\n",
      "4        finland                0\n",
      "..           ...              ...\n",
      "148      lesotho                0\n",
      "149     botswana                0\n",
      "150       rwanda                0\n",
      "151     zimbabwe                0\n",
      "152  afghanistan                0\n",
      "\n",
      "[153 rows x 2 columns]\n"
     ]
    }
   ],
   "source": [
    "positive = pd.read_excel (\n",
    "  r'../data/complete_dataset_region/positive_and_negative_affects_zeros.xlsx',\n",
    "  sheet_name='Positive'\n",
    ")\n",
    "\n",
    "df_positive = pd.DataFrame(\n",
    "  positive,\n",
    "  columns= [\n",
    "    'Country',\n",
    "    'Positive_affect'\n",
    "  ]\n",
    ")\n",
    "\n",
    "print(df_positive)\n"
   ]
  },
  {
   "cell_type": "markdown",
   "metadata": {},
   "source": [
    "No arquivo HistoricData.xls contém 22 campos vazios"
   ]
  },
  {
   "cell_type": "markdown",
   "metadata": {},
   "source": [
    "Possivel razão pela atribuição 0\n",
    "\n",
    "```python\n",
    "def get_positive_affects(self, country):\n",
    "    for year_affetcs in self.retroactive_positive_affects:\n",
    "        if(country in year_affetcs):\n",
    "            return year_affetcs[country]\n",
    "    return 0\n",
    "```\n",
    "\n",
    "no arquivo `world-happiness-report/src/data_preparation/affects.py`"
   ]
  },
  {
   "cell_type": "markdown",
   "metadata": {},
   "source": [
    "### `negative_affect`"
   ]
  },
  {
   "cell_type": "markdown",
   "metadata": {},
   "source": [
    "#### Analise a ser respondida"
   ]
  },
  {
   "cell_type": "markdown",
   "metadata": {},
   "source": [
    "##### Também existe um número razoável (e semelhante) de respostas zeradas. Caso forem as mesmas de positive_affect, é porque não há dados para essa variável no país selecionado e talvez seja necessário criar mais uma etapa de preparação dos dados.\n",
    "\n",
    "Há 154 registros que o atributo está com valor 0, onde:\n",
    "  - 2005 = 1\n",
    "  - 2006 = 1\n",
    "  - 2009 = 1\n",
    "  - 2010 = 2\n",
    "  - 2021 = 149\n",
    "\n",
    "Contém dois registros onde o \"positive_affects\" tambem não é zerado\n",
    "\n",
    "```\n",
    "turkey\tnear east\t4.72\t9.81\t0.82\t62.6\t0.62\t-0.14\t0.88\t\"0.56\"\t\"0\"\t2005\n",
    "philippines\tasia\t4.67\t8.56\t0.8\t59.8\t0.83\t0.06\t0.84\t\"0.83\"\t\"0\"\t2006\n",
    "\n",
    "```\n",
    "\n",
    "Nenhum país se repete no mesmo ano"
   ]
  },
  {
   "cell_type": "code",
   "execution_count": 52,
   "metadata": {},
   "outputs": [
    {
     "name": "stdout",
     "output_type": "stream",
     "text": [
      "         Country  Negative_affect\n",
      "0    afghanistan                0\n",
      "1        albania                0\n",
      "2        algeria                0\n",
      "3        algeria                0\n",
      "4      argentina                0\n",
      "..           ...              ...\n",
      "149    venezuela                0\n",
      "150      vietnam                0\n",
      "151        yemen                0\n",
      "152       zambia                0\n",
      "153     zimbabwe                0\n",
      "\n",
      "[154 rows x 2 columns]\n"
     ]
    }
   ],
   "source": [
    "negative = pd.read_excel (\n",
    "  r'../data/complete_dataset_region/positive_and_negative_affects_zeros.xlsx',\n",
    "  sheet_name='Negative'\n",
    ")\n",
    "\n",
    "df_negative = pd.DataFrame(\n",
    "  negative,\n",
    "  columns= [\n",
    "    'Country',\n",
    "    'Negative_affect'\n",
    "  ]\n",
    ")\n",
    "\n",
    "print(df_negative)\n"
   ]
  },
  {
   "cell_type": "markdown",
   "metadata": {},
   "source": [
    "No arquivo HistoricData.xls contém 16 campos vazios"
   ]
  },
  {
   "cell_type": "markdown",
   "metadata": {},
   "source": [
    "Possivel razão pela atribuição 0\n",
    "\n",
    "```python\n",
    "def get_negative_affects(self, country):\n",
    "    for year_affetcs in self.retroactive_negative_affects:\n",
    "        if(country in year_affetcs):\n",
    "            return year_affetcs[country]\n",
    "    return 0\n",
    "```\n",
    "\n",
    "no arquivo `world-happiness-report/src/data_preparation/affects.py`"
   ]
  },
  {
   "cell_type": "code",
   "execution_count": 10,
   "metadata": {},
   "outputs": [
    {
     "data": {
      "text/plain": [
       "Series([], Name: year, dtype: int64)"
      ]
     },
     "execution_count": 10,
     "metadata": {},
     "output_type": "execute_result"
    }
   ],
   "source": [
    "dataset.query(\"negative_affect == 0 and positive_affect == 0\")['year'].value_counts()"
   ]
  },
  {
   "cell_type": "markdown",
   "metadata": {},
   "source": [
    "Parece realmente ter algum bug no tratamento dos dados de 2021."
   ]
  }
 ],
 "metadata": {
  "interpreter": {
   "hash": "6e607abaa517475297adc4c5ce0e20c958febf53b6bace5f653445ec5f32eea0"
  },
  "kernelspec": {
   "display_name": "Python 3.10.0 64-bit",
   "language": "python",
   "name": "python3"
  },
  "language_info": {
   "codemirror_mode": {
    "name": "ipython",
    "version": 3
   },
   "file_extension": ".py",
   "mimetype": "text/x-python",
   "name": "python",
   "nbconvert_exporter": "python",
   "pygments_lexer": "ipython3",
   "version": "3.10.0"
  },
  "orig_nbformat": 4
 },
 "nbformat": 4,
 "nbformat_minor": 2
}
