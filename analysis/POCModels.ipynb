{
 "cells": [
  {
   "cell_type": "markdown",
   "metadata": {},
   "source": [
    "# Testes iniciais modelos de regressão"
   ]
  },
  {
   "cell_type": "markdown",
   "metadata": {},
   "source": [
    "## Preparando o ambiente"
   ]
  },
  {
   "cell_type": "code",
   "execution_count": 1,
   "metadata": {},
   "outputs": [],
   "source": [
    "import pandas as pd\n",
    "import seaborn as sns\n",
    "import matplotlib.pyplot as plt\n",
    "import numpy as np\n",
    "from sklearn.model_selection import train_test_split\n",
    "from sklearn.linear_model import LinearRegression, ElasticNetCV, BayesianRidge\n",
    "from sklearn.svm import SVR\n",
    "from sklearn.neighbors import KNeighborsRegressor\n",
    "from sklearn.ensemble import RandomForestRegressor\n",
    "from sklearn.tree import DecisionTreeRegressor"
   ]
  },
  {
   "cell_type": "code",
   "execution_count": 2,
   "metadata": {},
   "outputs": [],
   "source": [
    "SEED = 42\n",
    "np.random.seed(SEED)"
   ]
  },
  {
   "cell_type": "markdown",
   "metadata": {},
   "source": [
    "## Carregando os dados"
   ]
  },
  {
   "cell_type": "code",
   "execution_count": 3,
   "metadata": {},
   "outputs": [
    {
     "data": {
      "text/html": [
       "<div>\n",
       "<style scoped>\n",
       "    .dataframe tbody tr th:only-of-type {\n",
       "        vertical-align: middle;\n",
       "    }\n",
       "\n",
       "    .dataframe tbody tr th {\n",
       "        vertical-align: top;\n",
       "    }\n",
       "\n",
       "    .dataframe thead th {\n",
       "        text-align: right;\n",
       "    }\n",
       "</style>\n",
       "<table border=\"1\" class=\"dataframe\">\n",
       "  <thead>\n",
       "    <tr style=\"text-align: right;\">\n",
       "      <th></th>\n",
       "      <th>country</th>\n",
       "      <th>region</th>\n",
       "      <th>score</th>\n",
       "      <th>gdp</th>\n",
       "      <th>social_support</th>\n",
       "      <th>hle</th>\n",
       "      <th>freedom</th>\n",
       "      <th>generosity</th>\n",
       "      <th>corruption</th>\n",
       "      <th>positive_affect</th>\n",
       "      <th>negative_affect</th>\n",
       "      <th>year</th>\n",
       "    </tr>\n",
       "  </thead>\n",
       "  <tbody>\n",
       "    <tr>\n",
       "      <th>0</th>\n",
       "      <td>afghanistan</td>\n",
       "      <td>asia</td>\n",
       "      <td>3.723590</td>\n",
       "      <td>7.370100</td>\n",
       "      <td>0.450662</td>\n",
       "      <td>50.799999</td>\n",
       "      <td>0.718114</td>\n",
       "      <td>0.167640</td>\n",
       "      <td>0.881686</td>\n",
       "      <td>0.517637</td>\n",
       "      <td>0.258195</td>\n",
       "      <td>2008</td>\n",
       "    </tr>\n",
       "    <tr>\n",
       "      <th>1</th>\n",
       "      <td>afghanistan</td>\n",
       "      <td>asia</td>\n",
       "      <td>4.401778</td>\n",
       "      <td>7.539972</td>\n",
       "      <td>0.552308</td>\n",
       "      <td>51.200001</td>\n",
       "      <td>0.678896</td>\n",
       "      <td>0.190099</td>\n",
       "      <td>0.850035</td>\n",
       "      <td>0.583926</td>\n",
       "      <td>0.237092</td>\n",
       "      <td>2009</td>\n",
       "    </tr>\n",
       "    <tr>\n",
       "      <th>2</th>\n",
       "      <td>afghanistan</td>\n",
       "      <td>asia</td>\n",
       "      <td>4.758381</td>\n",
       "      <td>7.646709</td>\n",
       "      <td>0.539075</td>\n",
       "      <td>51.599998</td>\n",
       "      <td>0.600127</td>\n",
       "      <td>0.120590</td>\n",
       "      <td>0.706766</td>\n",
       "      <td>0.618265</td>\n",
       "      <td>0.275324</td>\n",
       "      <td>2010</td>\n",
       "    </tr>\n",
       "    <tr>\n",
       "      <th>3</th>\n",
       "      <td>afghanistan</td>\n",
       "      <td>asia</td>\n",
       "      <td>3.831719</td>\n",
       "      <td>7.619532</td>\n",
       "      <td>0.521104</td>\n",
       "      <td>51.919998</td>\n",
       "      <td>0.495901</td>\n",
       "      <td>0.162427</td>\n",
       "      <td>0.731109</td>\n",
       "      <td>0.611387</td>\n",
       "      <td>0.267175</td>\n",
       "      <td>2011</td>\n",
       "    </tr>\n",
       "    <tr>\n",
       "      <th>4</th>\n",
       "      <td>afghanistan</td>\n",
       "      <td>asia</td>\n",
       "      <td>3.782938</td>\n",
       "      <td>7.705479</td>\n",
       "      <td>0.520637</td>\n",
       "      <td>52.240002</td>\n",
       "      <td>0.530935</td>\n",
       "      <td>0.236032</td>\n",
       "      <td>0.775620</td>\n",
       "      <td>0.710385</td>\n",
       "      <td>0.267919</td>\n",
       "      <td>2012</td>\n",
       "    </tr>\n",
       "  </tbody>\n",
       "</table>\n",
       "</div>"
      ],
      "text/plain": [
       "       country region     score       gdp  social_support        hle  \\\n",
       "0  afghanistan   asia  3.723590  7.370100        0.450662  50.799999   \n",
       "1  afghanistan   asia  4.401778  7.539972        0.552308  51.200001   \n",
       "2  afghanistan   asia  4.758381  7.646709        0.539075  51.599998   \n",
       "3  afghanistan   asia  3.831719  7.619532        0.521104  51.919998   \n",
       "4  afghanistan   asia  3.782938  7.705479        0.520637  52.240002   \n",
       "\n",
       "    freedom  generosity  corruption  positive_affect  negative_affect  year  \n",
       "0  0.718114    0.167640    0.881686         0.517637         0.258195  2008  \n",
       "1  0.678896    0.190099    0.850035         0.583926         0.237092  2009  \n",
       "2  0.600127    0.120590    0.706766         0.618265         0.275324  2010  \n",
       "3  0.495901    0.162427    0.731109         0.611387         0.267175  2011  \n",
       "4  0.530935    0.236032    0.775620         0.710385         0.267919  2012  "
      ]
     },
     "execution_count": 3,
     "metadata": {},
     "output_type": "execute_result"
    }
   ],
   "source": [
    "dataset = pd.read_csv('../data/complete_dataset_region/complete_dataset_region.csv')\n",
    "dataset.head()"
   ]
  },
  {
   "cell_type": "markdown",
   "metadata": {},
   "source": [
    "### Criando valor numérico para `region`"
   ]
  },
  {
   "cell_type": "code",
   "execution_count": 4,
   "metadata": {},
   "outputs": [
    {
     "data": {
      "text/html": [
       "<div>\n",
       "<style scoped>\n",
       "    .dataframe tbody tr th:only-of-type {\n",
       "        vertical-align: middle;\n",
       "    }\n",
       "\n",
       "    .dataframe tbody tr th {\n",
       "        vertical-align: top;\n",
       "    }\n",
       "\n",
       "    .dataframe thead th {\n",
       "        text-align: right;\n",
       "    }\n",
       "</style>\n",
       "<table border=\"1\" class=\"dataframe\">\n",
       "  <thead>\n",
       "    <tr style=\"text-align: right;\">\n",
       "      <th></th>\n",
       "      <th>country</th>\n",
       "      <th>region</th>\n",
       "      <th>score</th>\n",
       "      <th>gdp</th>\n",
       "      <th>social_support</th>\n",
       "      <th>hle</th>\n",
       "      <th>freedom</th>\n",
       "      <th>generosity</th>\n",
       "      <th>corruption</th>\n",
       "      <th>positive_affect</th>\n",
       "      <th>negative_affect</th>\n",
       "      <th>year</th>\n",
       "      <th>cat_region</th>\n",
       "    </tr>\n",
       "  </thead>\n",
       "  <tbody>\n",
       "    <tr>\n",
       "      <th>1005</th>\n",
       "      <td>lithuania</td>\n",
       "      <td>baltics</td>\n",
       "      <td>5.065825</td>\n",
       "      <td>10.085495</td>\n",
       "      <td>0.881811</td>\n",
       "      <td>64.500000</td>\n",
       "      <td>0.519352</td>\n",
       "      <td>-0.274880</td>\n",
       "      <td>0.962167</td>\n",
       "      <td>0.473150</td>\n",
       "      <td>0.272029</td>\n",
       "      <td>2010</td>\n",
       "      <td>1</td>\n",
       "    </tr>\n",
       "    <tr>\n",
       "      <th>1078</th>\n",
       "      <td>malta</td>\n",
       "      <td>western europe</td>\n",
       "      <td>6.154718</td>\n",
       "      <td>10.370396</td>\n",
       "      <td>0.922640</td>\n",
       "      <td>71.720001</td>\n",
       "      <td>0.881922</td>\n",
       "      <td>0.295860</td>\n",
       "      <td>0.652986</td>\n",
       "      <td>0.736184</td>\n",
       "      <td>0.339703</td>\n",
       "      <td>2011</td>\n",
       "      <td>10</td>\n",
       "    </tr>\n",
       "    <tr>\n",
       "      <th>67</th>\n",
       "      <td>australia</td>\n",
       "      <td>oceania</td>\n",
       "      <td>7.285391</td>\n",
       "      <td>10.702894</td>\n",
       "      <td>0.965276</td>\n",
       "      <td>71.720001</td>\n",
       "      <td>0.890682</td>\n",
       "      <td>0.347052</td>\n",
       "      <td>0.512578</td>\n",
       "      <td>0.826251</td>\n",
       "      <td>0.215351</td>\n",
       "      <td>2007</td>\n",
       "      <td>8</td>\n",
       "    </tr>\n",
       "    <tr>\n",
       "      <th>867</th>\n",
       "      <td>jordan</td>\n",
       "      <td>near east</td>\n",
       "      <td>5.171953</td>\n",
       "      <td>9.237214</td>\n",
       "      <td>0.840379</td>\n",
       "      <td>65.599998</td>\n",
       "      <td>0.692227</td>\n",
       "      <td>-0.116707</td>\n",
       "      <td>0.744979</td>\n",
       "      <td>0.684084</td>\n",
       "      <td>0.286033</td>\n",
       "      <td>2013</td>\n",
       "      <td>5</td>\n",
       "    </tr>\n",
       "    <tr>\n",
       "      <th>650</th>\n",
       "      <td>guatemala</td>\n",
       "      <td>latin amer. and carib</td>\n",
       "      <td>5.901429</td>\n",
       "      <td>8.849806</td>\n",
       "      <td>0.830442</td>\n",
       "      <td>60.740002</td>\n",
       "      <td>0.663382</td>\n",
       "      <td>0.172222</td>\n",
       "      <td>0.706096</td>\n",
       "      <td>0.818015</td>\n",
       "      <td>0.287082</td>\n",
       "      <td>2006</td>\n",
       "      <td>4</td>\n",
       "    </tr>\n",
       "  </tbody>\n",
       "</table>\n",
       "</div>"
      ],
      "text/plain": [
       "        country                 region     score        gdp  social_support  \\\n",
       "1005  lithuania                baltics  5.065825  10.085495        0.881811   \n",
       "1078      malta         western europe  6.154718  10.370396        0.922640   \n",
       "67    australia                oceania  7.285391  10.702894        0.965276   \n",
       "867      jordan              near east  5.171953   9.237214        0.840379   \n",
       "650   guatemala  latin amer. and carib  5.901429   8.849806        0.830442   \n",
       "\n",
       "            hle   freedom  generosity  corruption  positive_affect  \\\n",
       "1005  64.500000  0.519352   -0.274880    0.962167         0.473150   \n",
       "1078  71.720001  0.881922    0.295860    0.652986         0.736184   \n",
       "67    71.720001  0.890682    0.347052    0.512578         0.826251   \n",
       "867   65.599998  0.692227   -0.116707    0.744979         0.684084   \n",
       "650   60.740002  0.663382    0.172222    0.706096         0.818015   \n",
       "\n",
       "      negative_affect  year  cat_region  \n",
       "1005         0.272029  2010           1  \n",
       "1078         0.339703  2011          10  \n",
       "67           0.215351  2007           8  \n",
       "867          0.286033  2013           5  \n",
       "650          0.287082  2006           4  "
      ]
     },
     "execution_count": 4,
     "metadata": {},
     "output_type": "execute_result"
    }
   ],
   "source": [
    "dataset['cat_region'] = pd.Categorical(dataset['region'])\n",
    "dataset['cat_region'] = dataset['cat_region'].cat.codes\n",
    "dataset.sample(5)"
   ]
  },
  {
   "cell_type": "code",
   "execution_count": 5,
   "metadata": {},
   "outputs": [
    {
     "data": {
      "text/html": [
       "<div>\n",
       "<style scoped>\n",
       "    .dataframe tbody tr th:only-of-type {\n",
       "        vertical-align: middle;\n",
       "    }\n",
       "\n",
       "    .dataframe tbody tr th {\n",
       "        vertical-align: top;\n",
       "    }\n",
       "\n",
       "    .dataframe thead th {\n",
       "        text-align: right;\n",
       "    }\n",
       "</style>\n",
       "<table border=\"1\" class=\"dataframe\">\n",
       "  <thead>\n",
       "    <tr style=\"text-align: right;\">\n",
       "      <th></th>\n",
       "      <th>score</th>\n",
       "      <th>gdp</th>\n",
       "      <th>social_support</th>\n",
       "      <th>hle</th>\n",
       "      <th>freedom</th>\n",
       "      <th>generosity</th>\n",
       "      <th>corruption</th>\n",
       "      <th>positive_affect</th>\n",
       "      <th>negative_affect</th>\n",
       "      <th>year</th>\n",
       "      <th>cat_region</th>\n",
       "    </tr>\n",
       "  </thead>\n",
       "  <tbody>\n",
       "    <tr>\n",
       "      <th>score</th>\n",
       "      <td>1.000000</td>\n",
       "      <td>0.786760</td>\n",
       "      <td>0.710903</td>\n",
       "      <td>0.742423</td>\n",
       "      <td>0.524903</td>\n",
       "      <td>0.171968</td>\n",
       "      <td>-0.423622</td>\n",
       "      <td>0.526402</td>\n",
       "      <td>-0.305731</td>\n",
       "      <td>0.037531</td>\n",
       "      <td>0.059246</td>\n",
       "    </tr>\n",
       "    <tr>\n",
       "      <th>gdp</th>\n",
       "      <td>0.786760</td>\n",
       "      <td>1.000000</td>\n",
       "      <td>0.689782</td>\n",
       "      <td>0.834704</td>\n",
       "      <td>0.362880</td>\n",
       "      <td>-0.013398</td>\n",
       "      <td>-0.339782</td>\n",
       "      <td>0.299136</td>\n",
       "      <td>-0.224299</td>\n",
       "      <td>0.074857</td>\n",
       "      <td>-0.051085</td>\n",
       "    </tr>\n",
       "    <tr>\n",
       "      <th>social_support</th>\n",
       "      <td>0.710903</td>\n",
       "      <td>0.689782</td>\n",
       "      <td>1.000000</td>\n",
       "      <td>0.620191</td>\n",
       "      <td>0.412178</td>\n",
       "      <td>0.049919</td>\n",
       "      <td>-0.220744</td>\n",
       "      <td>0.429108</td>\n",
       "      <td>-0.403003</td>\n",
       "      <td>-0.006371</td>\n",
       "      <td>-0.008218</td>\n",
       "    </tr>\n",
       "    <tr>\n",
       "      <th>hle</th>\n",
       "      <td>0.742423</td>\n",
       "      <td>0.834704</td>\n",
       "      <td>0.620191</td>\n",
       "      <td>1.000000</td>\n",
       "      <td>0.388563</td>\n",
       "      <td>0.007027</td>\n",
       "      <td>-0.320664</td>\n",
       "      <td>0.309012</td>\n",
       "      <td>-0.147952</td>\n",
       "      <td>0.165953</td>\n",
       "      <td>-0.158477</td>\n",
       "    </tr>\n",
       "    <tr>\n",
       "      <th>freedom</th>\n",
       "      <td>0.524903</td>\n",
       "      <td>0.362880</td>\n",
       "      <td>0.412178</td>\n",
       "      <td>0.388563</td>\n",
       "      <td>1.000000</td>\n",
       "      <td>0.305791</td>\n",
       "      <td>-0.472828</td>\n",
       "      <td>0.602394</td>\n",
       "      <td>-0.267733</td>\n",
       "      <td>0.227725</td>\n",
       "      <td>0.060306</td>\n",
       "    </tr>\n",
       "    <tr>\n",
       "      <th>generosity</th>\n",
       "      <td>0.171968</td>\n",
       "      <td>-0.013398</td>\n",
       "      <td>0.049919</td>\n",
       "      <td>0.007027</td>\n",
       "      <td>0.305791</td>\n",
       "      <td>1.000000</td>\n",
       "      <td>-0.278279</td>\n",
       "      <td>0.334181</td>\n",
       "      <td>-0.077491</td>\n",
       "      <td>-0.036023</td>\n",
       "      <td>0.057679</td>\n",
       "    </tr>\n",
       "    <tr>\n",
       "      <th>corruption</th>\n",
       "      <td>-0.423622</td>\n",
       "      <td>-0.339782</td>\n",
       "      <td>-0.220744</td>\n",
       "      <td>-0.320664</td>\n",
       "      <td>-0.472828</td>\n",
       "      <td>-0.278279</td>\n",
       "      <td>1.000000</td>\n",
       "      <td>-0.285842</td>\n",
       "      <td>0.259155</td>\n",
       "      <td>-0.074125</td>\n",
       "      <td>-0.252090</td>\n",
       "    </tr>\n",
       "    <tr>\n",
       "      <th>positive_affect</th>\n",
       "      <td>0.526402</td>\n",
       "      <td>0.299136</td>\n",
       "      <td>0.429108</td>\n",
       "      <td>0.309012</td>\n",
       "      <td>0.602394</td>\n",
       "      <td>0.334181</td>\n",
       "      <td>-0.285842</td>\n",
       "      <td>1.000000</td>\n",
       "      <td>-0.372828</td>\n",
       "      <td>-0.001139</td>\n",
       "      <td>0.075334</td>\n",
       "    </tr>\n",
       "    <tr>\n",
       "      <th>negative_affect</th>\n",
       "      <td>-0.305731</td>\n",
       "      <td>-0.224299</td>\n",
       "      <td>-0.403003</td>\n",
       "      <td>-0.147952</td>\n",
       "      <td>-0.267733</td>\n",
       "      <td>-0.077491</td>\n",
       "      <td>0.259155</td>\n",
       "      <td>-0.372828</td>\n",
       "      <td>1.000000</td>\n",
       "      <td>0.209917</td>\n",
       "      <td>0.038011</td>\n",
       "    </tr>\n",
       "    <tr>\n",
       "      <th>year</th>\n",
       "      <td>0.037531</td>\n",
       "      <td>0.074857</td>\n",
       "      <td>-0.006371</td>\n",
       "      <td>0.165953</td>\n",
       "      <td>0.227725</td>\n",
       "      <td>-0.036023</td>\n",
       "      <td>-0.074125</td>\n",
       "      <td>-0.001139</td>\n",
       "      <td>0.209917</td>\n",
       "      <td>1.000000</td>\n",
       "      <td>0.038731</td>\n",
       "    </tr>\n",
       "    <tr>\n",
       "      <th>cat_region</th>\n",
       "      <td>0.059246</td>\n",
       "      <td>-0.051085</td>\n",
       "      <td>-0.008218</td>\n",
       "      <td>-0.158477</td>\n",
       "      <td>0.060306</td>\n",
       "      <td>0.057679</td>\n",
       "      <td>-0.252090</td>\n",
       "      <td>0.075334</td>\n",
       "      <td>0.038011</td>\n",
       "      <td>0.038731</td>\n",
       "      <td>1.000000</td>\n",
       "    </tr>\n",
       "  </tbody>\n",
       "</table>\n",
       "</div>"
      ],
      "text/plain": [
       "                    score       gdp  social_support       hle   freedom  \\\n",
       "score            1.000000  0.786760        0.710903  0.742423  0.524903   \n",
       "gdp              0.786760  1.000000        0.689782  0.834704  0.362880   \n",
       "social_support   0.710903  0.689782        1.000000  0.620191  0.412178   \n",
       "hle              0.742423  0.834704        0.620191  1.000000  0.388563   \n",
       "freedom          0.524903  0.362880        0.412178  0.388563  1.000000   \n",
       "generosity       0.171968 -0.013398        0.049919  0.007027  0.305791   \n",
       "corruption      -0.423622 -0.339782       -0.220744 -0.320664 -0.472828   \n",
       "positive_affect  0.526402  0.299136        0.429108  0.309012  0.602394   \n",
       "negative_affect -0.305731 -0.224299       -0.403003 -0.147952 -0.267733   \n",
       "year             0.037531  0.074857       -0.006371  0.165953  0.227725   \n",
       "cat_region       0.059246 -0.051085       -0.008218 -0.158477  0.060306   \n",
       "\n",
       "                 generosity  corruption  positive_affect  negative_affect  \\\n",
       "score              0.171968   -0.423622         0.526402        -0.305731   \n",
       "gdp               -0.013398   -0.339782         0.299136        -0.224299   \n",
       "social_support     0.049919   -0.220744         0.429108        -0.403003   \n",
       "hle                0.007027   -0.320664         0.309012        -0.147952   \n",
       "freedom            0.305791   -0.472828         0.602394        -0.267733   \n",
       "generosity         1.000000   -0.278279         0.334181        -0.077491   \n",
       "corruption        -0.278279    1.000000        -0.285842         0.259155   \n",
       "positive_affect    0.334181   -0.285842         1.000000        -0.372828   \n",
       "negative_affect   -0.077491    0.259155        -0.372828         1.000000   \n",
       "year              -0.036023   -0.074125        -0.001139         0.209917   \n",
       "cat_region         0.057679   -0.252090         0.075334         0.038011   \n",
       "\n",
       "                     year  cat_region  \n",
       "score            0.037531    0.059246  \n",
       "gdp              0.074857   -0.051085  \n",
       "social_support  -0.006371   -0.008218  \n",
       "hle              0.165953   -0.158477  \n",
       "freedom          0.227725    0.060306  \n",
       "generosity      -0.036023    0.057679  \n",
       "corruption      -0.074125   -0.252090  \n",
       "positive_affect -0.001139    0.075334  \n",
       "negative_affect  0.209917    0.038011  \n",
       "year             1.000000    0.038731  \n",
       "cat_region       0.038731    1.000000  "
      ]
     },
     "execution_count": 5,
     "metadata": {},
     "output_type": "execute_result"
    }
   ],
   "source": [
    "dataset.corr()"
   ]
  },
  {
   "cell_type": "markdown",
   "metadata": {},
   "source": [
    "Note que a região possui uma influência consideravelmente pequena na previsão."
   ]
  },
  {
   "cell_type": "markdown",
   "metadata": {},
   "source": [
    "### Separação simiples de treino e teste"
   ]
  },
  {
   "cell_type": "code",
   "execution_count": 6,
   "metadata": {},
   "outputs": [],
   "source": [
    "X = dataset.drop(['country', 'region', 'score'], axis=1)\n",
    "y = dataset['score']\n",
    "x_train, x_test, y_train, y_test = train_test_split(X, y, test_size=0.2, random_state=SEED)"
   ]
  },
  {
   "cell_type": "markdown",
   "metadata": {},
   "source": [
    "## Treinamento inicial de modelos\n",
    "\n",
    "Esses treinamentos não envolvem nenhum tipo de normalização dos dados, apenas um teste de seus comportamentos ante os dados."
   ]
  },
  {
   "cell_type": "markdown",
   "metadata": {},
   "source": [
    "### Modelos lineares"
   ]
  },
  {
   "cell_type": "code",
   "execution_count": 7,
   "metadata": {},
   "outputs": [
    {
     "data": {
      "text/plain": [
       "0.7614237962949602"
      ]
     },
     "execution_count": 7,
     "metadata": {},
     "output_type": "execute_result"
    }
   ],
   "source": [
    "LinearRegression().fit(x_train, y_train).score(x_test, y_test)"
   ]
  },
  {
   "cell_type": "code",
   "execution_count": 8,
   "metadata": {},
   "outputs": [
    {
     "data": {
      "text/plain": [
       "0.7424025041842205"
      ]
     },
     "execution_count": 8,
     "metadata": {},
     "output_type": "execute_result"
    }
   ],
   "source": [
    "ElasticNetCV(random_state=SEED).fit(x_train, y_train).score(x_test, y_test)"
   ]
  },
  {
   "cell_type": "code",
   "execution_count": 10,
   "metadata": {},
   "outputs": [
    {
     "data": {
      "text/plain": [
       "0.7613085330427756"
      ]
     },
     "execution_count": 10,
     "metadata": {},
     "output_type": "execute_result"
    }
   ],
   "source": [
    "BayesianRidge().fit(x_train, y_train).score(x_test, y_test)"
   ]
  },
  {
   "cell_type": "markdown",
   "metadata": {},
   "source": [
    "### Modelos não lineares"
   ]
  },
  {
   "cell_type": "code",
   "execution_count": 11,
   "metadata": {},
   "outputs": [
    {
     "data": {
      "text/plain": [
       "0.8223662918819352"
      ]
     },
     "execution_count": 11,
     "metadata": {},
     "output_type": "execute_result"
    }
   ],
   "source": [
    "SVR(kernel=\"rbf\", C=100, gamma=0.1, epsilon=0.1).fit(x_train, y_train).score(x_test, y_test)"
   ]
  },
  {
   "cell_type": "code",
   "execution_count": 12,
   "metadata": {},
   "outputs": [
    {
     "data": {
      "text/plain": [
       "0.7661748967848726"
      ]
     },
     "execution_count": 12,
     "metadata": {},
     "output_type": "execute_result"
    }
   ],
   "source": [
    "KNeighborsRegressor(n_neighbors=5).fit(x_train, y_train).score(x_test, y_test)"
   ]
  },
  {
   "cell_type": "code",
   "execution_count": 13,
   "metadata": {},
   "outputs": [
    {
     "data": {
      "text/plain": [
       "0.8919773572365879"
      ]
     },
     "execution_count": 13,
     "metadata": {},
     "output_type": "execute_result"
    }
   ],
   "source": [
    "RandomForestRegressor(random_state=SEED).fit(x_train, y_train).score(x_test, y_test)"
   ]
  },
  {
   "cell_type": "code",
   "execution_count": 14,
   "metadata": {},
   "outputs": [
    {
     "data": {
      "text/plain": [
       "0.7947418675313962"
      ]
     },
     "execution_count": 14,
     "metadata": {},
     "output_type": "execute_result"
    }
   ],
   "source": [
    "DecisionTreeRegressor(random_state=SEED).fit(x_train, y_train).score(x_test, y_test)"
   ]
  },
  {
   "cell_type": "markdown",
   "metadata": {},
   "source": [
    "O melhor modelo identificado foi o `RandomForestRegressor`. Uma análise melhor precisa ser feita para identificar se ele não está gerando overfitting."
   ]
  },
  {
   "cell_type": "markdown",
   "metadata": {},
   "source": [
    "## Análise do `RandomForestRegressor`"
   ]
  },
  {
   "cell_type": "code",
   "execution_count": 31,
   "metadata": {},
   "outputs": [
    {
     "data": {
      "text/plain": [
       "0.9851843990679581"
      ]
     },
     "execution_count": 31,
     "metadata": {},
     "output_type": "execute_result"
    }
   ],
   "source": [
    "RandomForestRegressor(random_state=SEED).fit(X, y).score(X, y)"
   ]
  },
  {
   "cell_type": "markdown",
   "metadata": {},
   "source": [
    "Ainda que não gere um ajuste perfeto, o modelo está indicando um possível _overfitting_."
   ]
  },
  {
   "cell_type": "markdown",
   "metadata": {},
   "source": [
    "### Validando com 2021"
   ]
  },
  {
   "cell_type": "code",
   "execution_count": 16,
   "metadata": {},
   "outputs": [
    {
     "data": {
      "text/plain": [
       "0.9578919366886532"
      ]
     },
     "execution_count": 16,
     "metadata": {},
     "output_type": "execute_result"
    }
   ],
   "source": [
    "until_2020 = dataset.query('year <= 2020')\n",
    "X = until_2020.drop(['country', 'region', 'score'], axis=1)\n",
    "y = until_2020['score']\n",
    "since_2021 = dataset.query('year > 2020')\n",
    "X_test = since_2021.drop(['country', 'region', 'score'], axis=1)\n",
    "y_test = since_2021['score']\n",
    "\n",
    "RandomForestRegressor(random_state=SEED).fit(X, y).score(X_test, y_test)"
   ]
  },
  {
   "cell_type": "code",
   "execution_count": 19,
   "metadata": {},
   "outputs": [],
   "source": [
    "predictions = RandomForestRegressor(random_state=SEED).fit(X, y).predict(X_test)\n",
    "result = pd.DataFrame([predictions, X_test['gdp']]).T.rename(columns={0: 'score', 1: 'gdp'})"
   ]
  },
  {
   "cell_type": "code",
   "execution_count": 32,
   "metadata": {},
   "outputs": [
    {
     "data": {
      "image/png": "[encoded data removed]",
      "text/plain": [
       "<Figure size 1440x720 with 1 Axes>"
      ]
     },
     "metadata": {},
     "output_type": "display_data"
    }
   ],
   "source": [
    "sns.set(rc={'figure.figsize':(20,10)})\n",
    "sns.regplot(x='score', y='gdp', data=since_2021, label='Actual', logx=True)\n",
    "sns.regplot(x='score', y='gdp', data=result, label='Predicted', logx=True)\n",
    "plt.title('GPD vs Predicted and Actual Score (2021)')\n",
    "plt.show()"
   ]
  },
  {
   "cell_type": "markdown",
   "metadata": {},
   "source": [
    "Note que a variação está maior para scores menores, mas que em grande parte as curvas são muito parecidas. É preciso lembrar que não é apenas o GDP que é levado em consideração aqui."
   ]
  },
  {
   "cell_type": "markdown",
   "metadata": {},
   "source": [
    "### Erro por ano"
   ]
  },
  {
   "cell_type": "code",
   "execution_count": 35,
   "metadata": {},
   "outputs": [],
   "source": [
    "current_year = dataset['year'].min()\n",
    "last_year = dataset['year'].max()\n",
    "years = list(range(current_year, last_year+1))"
   ]
  },
  {
   "cell_type": "code",
   "execution_count": 48,
   "metadata": {},
   "outputs": [
    {
     "data": {
      "text/html": [
       "<div>\n",
       "<style scoped>\n",
       "    .dataframe tbody tr th:only-of-type {\n",
       "        vertical-align: middle;\n",
       "    }\n",
       "\n",
       "    .dataframe tbody tr th {\n",
       "        vertical-align: top;\n",
       "    }\n",
       "\n",
       "    .dataframe thead th {\n",
       "        text-align: right;\n",
       "    }\n",
       "</style>\n",
       "<table border=\"1\" class=\"dataframe\">\n",
       "  <thead>\n",
       "    <tr style=\"text-align: right;\">\n",
       "      <th></th>\n",
       "      <th>year</th>\n",
       "      <th>score</th>\n",
       "    </tr>\n",
       "  </thead>\n",
       "  <tbody>\n",
       "    <tr>\n",
       "      <th>0</th>\n",
       "      <td>2005</td>\n",
       "      <td>0.699952</td>\n",
       "    </tr>\n",
       "    <tr>\n",
       "      <th>1</th>\n",
       "      <td>2006</td>\n",
       "      <td>0.837586</td>\n",
       "    </tr>\n",
       "    <tr>\n",
       "      <th>2</th>\n",
       "      <td>2007</td>\n",
       "      <td>0.852930</td>\n",
       "    </tr>\n",
       "    <tr>\n",
       "      <th>3</th>\n",
       "      <td>2008</td>\n",
       "      <td>0.897597</td>\n",
       "    </tr>\n",
       "    <tr>\n",
       "      <th>4</th>\n",
       "      <td>2009</td>\n",
       "      <td>0.828226</td>\n",
       "    </tr>\n",
       "    <tr>\n",
       "      <th>5</th>\n",
       "      <td>2010</td>\n",
       "      <td>0.903278</td>\n",
       "    </tr>\n",
       "    <tr>\n",
       "      <th>6</th>\n",
       "      <td>2011</td>\n",
       "      <td>0.864959</td>\n",
       "    </tr>\n",
       "    <tr>\n",
       "      <th>7</th>\n",
       "      <td>2012</td>\n",
       "      <td>0.907814</td>\n",
       "    </tr>\n",
       "    <tr>\n",
       "      <th>8</th>\n",
       "      <td>2013</td>\n",
       "      <td>0.887390</td>\n",
       "    </tr>\n",
       "    <tr>\n",
       "      <th>9</th>\n",
       "      <td>2014</td>\n",
       "      <td>0.887393</td>\n",
       "    </tr>\n",
       "    <tr>\n",
       "      <th>10</th>\n",
       "      <td>2015</td>\n",
       "      <td>0.908703</td>\n",
       "    </tr>\n",
       "    <tr>\n",
       "      <th>11</th>\n",
       "      <td>2016</td>\n",
       "      <td>0.912436</td>\n",
       "    </tr>\n",
       "    <tr>\n",
       "      <th>12</th>\n",
       "      <td>2017</td>\n",
       "      <td>0.913732</td>\n",
       "    </tr>\n",
       "    <tr>\n",
       "      <th>13</th>\n",
       "      <td>2018</td>\n",
       "      <td>0.901313</td>\n",
       "    </tr>\n",
       "    <tr>\n",
       "      <th>14</th>\n",
       "      <td>2019</td>\n",
       "      <td>0.897695</td>\n",
       "    </tr>\n",
       "    <tr>\n",
       "      <th>15</th>\n",
       "      <td>2020</td>\n",
       "      <td>0.900224</td>\n",
       "    </tr>\n",
       "    <tr>\n",
       "      <th>16</th>\n",
       "      <td>2021</td>\n",
       "      <td>0.957892</td>\n",
       "    </tr>\n",
       "  </tbody>\n",
       "</table>\n",
       "</div>"
      ],
      "text/plain": [
       "    year     score\n",
       "0   2005  0.699952\n",
       "1   2006  0.837586\n",
       "2   2007  0.852930\n",
       "3   2008  0.897597\n",
       "4   2009  0.828226\n",
       "5   2010  0.903278\n",
       "6   2011  0.864959\n",
       "7   2012  0.907814\n",
       "8   2013  0.887390\n",
       "9   2014  0.887393\n",
       "10  2015  0.908703\n",
       "11  2016  0.912436\n",
       "12  2017  0.913732\n",
       "13  2018  0.901313\n",
       "14  2019  0.897695\n",
       "15  2020  0.900224\n",
       "16  2021  0.957892"
      ]
     },
     "execution_count": 48,
     "metadata": {},
     "output_type": "execute_result"
    }
   ],
   "source": [
    "results = []\n",
    "for year in years:\n",
    "    to_train = dataset.query(f'year != {year}')\n",
    "    to_test = dataset.query(f'year == {year}')\n",
    "    X = to_train.drop(['country', 'region', 'score'], axis=1)\n",
    "    y = to_train['score']\n",
    "    X_test = to_test.drop(['country', 'region', 'score'], axis=1)\n",
    "    y_test = to_test['score']\n",
    "    score = RandomForestRegressor(random_state=SEED).fit(X, y).score(X_test, y_test)\n",
    "    results.append({\n",
    "        'year': year,\n",
    "        'score': score\n",
    "    }) \n",
    "\n",
    "results = pd.DataFrame(results) \n",
    "results    "
   ]
  },
  {
   "cell_type": "code",
   "execution_count": 49,
   "metadata": {},
   "outputs": [
    {
     "data": {
      "image/png": "[encoded data removed]",
      "text/plain": [
       "<Figure size 1440x720 with 1 Axes>"
      ]
     },
     "metadata": {},
     "output_type": "display_data"
    }
   ],
   "source": [
    "sns.set(rc={'figure.figsize':(20,10)})\n",
    "sns.lineplot(x='year', y='score', data=results)\n",
    "plt.title('Score R² validando com cada ano')\n",
    "plt.show()"
   ]
  },
  {
   "cell_type": "markdown",
   "metadata": {},
   "source": [
    "### Erro por região do mundo"
   ]
  },
  {
   "cell_type": "code",
   "execution_count": 45,
   "metadata": {},
   "outputs": [
    {
     "name": "stdout",
     "output_type": "stream",
     "text": [
      "Region: asia, training size: 1777, test size: 321\n",
      "Region: eastern europe, training size: 1902, test size: 196\n",
      "Region: northern africa, training size: 2042, test size: 56\n",
      "Region: sub-saharan africa, training size: 1635, test size: 463\n",
      "Region: latin amer. and carib, training size: 1789, test size: 309\n",
      "Region: c.w. of ind. states, training size: 1916, test size: 182\n",
      "Region: oceania, training size: 2068, test size: 30\n",
      "Region: western europe, training size: 1806, test size: 292\n",
      "Region: near east, training size: 1927, test size: 171\n",
      "Region: northern america, training size: 2066, test size: 32\n",
      "Region: baltics, training size: 2052, test size: 46\n"
     ]
    },
    {
     "data": {
      "text/html": [
       "<div>\n",
       "<style scoped>\n",
       "    .dataframe tbody tr th:only-of-type {\n",
       "        vertical-align: middle;\n",
       "    }\n",
       "\n",
       "    .dataframe tbody tr th {\n",
       "        vertical-align: top;\n",
       "    }\n",
       "\n",
       "    .dataframe thead th {\n",
       "        text-align: right;\n",
       "    }\n",
       "</style>\n",
       "<table border=\"1\" class=\"dataframe\">\n",
       "  <thead>\n",
       "    <tr style=\"text-align: right;\">\n",
       "      <th></th>\n",
       "      <th>region</th>\n",
       "      <th>score</th>\n",
       "    </tr>\n",
       "  </thead>\n",
       "  <tbody>\n",
       "    <tr>\n",
       "      <th>0</th>\n",
       "      <td>asia</td>\n",
       "      <td>0.131358</td>\n",
       "    </tr>\n",
       "    <tr>\n",
       "      <th>1</th>\n",
       "      <td>eastern europe</td>\n",
       "      <td>0.397544</td>\n",
       "    </tr>\n",
       "    <tr>\n",
       "      <th>2</th>\n",
       "      <td>northern africa</td>\n",
       "      <td>0.217617</td>\n",
       "    </tr>\n",
       "    <tr>\n",
       "      <th>3</th>\n",
       "      <td>sub-saharan africa</td>\n",
       "      <td>-0.158928</td>\n",
       "    </tr>\n",
       "    <tr>\n",
       "      <th>4</th>\n",
       "      <td>latin amer. and carib</td>\n",
       "      <td>-0.210855</td>\n",
       "    </tr>\n",
       "    <tr>\n",
       "      <th>5</th>\n",
       "      <td>c.w. of ind. states</td>\n",
       "      <td>0.166077</td>\n",
       "    </tr>\n",
       "    <tr>\n",
       "      <th>6</th>\n",
       "      <td>oceania</td>\n",
       "      <td>-7.458295</td>\n",
       "    </tr>\n",
       "    <tr>\n",
       "      <th>7</th>\n",
       "      <td>western europe</td>\n",
       "      <td>0.556288</td>\n",
       "    </tr>\n",
       "    <tr>\n",
       "      <th>8</th>\n",
       "      <td>near east</td>\n",
       "      <td>0.700610</td>\n",
       "    </tr>\n",
       "    <tr>\n",
       "      <th>9</th>\n",
       "      <td>northern america</td>\n",
       "      <td>-0.321822</td>\n",
       "    </tr>\n",
       "    <tr>\n",
       "      <th>10</th>\n",
       "      <td>baltics</td>\n",
       "      <td>0.170747</td>\n",
       "    </tr>\n",
       "  </tbody>\n",
       "</table>\n",
       "</div>"
      ],
      "text/plain": [
       "                   region     score\n",
       "0                    asia  0.131358\n",
       "1          eastern europe  0.397544\n",
       "2         northern africa  0.217617\n",
       "3      sub-saharan africa -0.158928\n",
       "4   latin amer. and carib -0.210855\n",
       "5     c.w. of ind. states  0.166077\n",
       "6                 oceania -7.458295\n",
       "7          western europe  0.556288\n",
       "8               near east  0.700610\n",
       "9        northern america -0.321822\n",
       "10                baltics  0.170747"
      ]
     },
     "execution_count": 45,
     "metadata": {},
     "output_type": "execute_result"
    }
   ],
   "source": [
    "regions = dataset['region'].unique()\n",
    "results = []\n",
    "for region in regions:\n",
    "    to_train = dataset[dataset['region'] != region]\n",
    "    to_test = dataset[dataset['region'] == region]\n",
    "    print(f'Region: {region}, training size: {len(to_train)}, test size: {len(to_test)}')\n",
    "    X = to_train.drop(['country', 'region', 'score', 'cat_region'], axis=1)\n",
    "    y = to_train['score']\n",
    "    X_test = to_test.drop(['country', 'region', 'score', 'cat_region'], axis=1)\n",
    "    y_test = to_test['score']\n",
    "    score = RandomForestRegressor(random_state=SEED).fit(X, y).score(X_test, y_test)\n",
    "    results.append({\n",
    "        'region': region,\n",
    "        'score': score\n",
    "    })\n",
    "results = pd.DataFrame(results)\n",
    "results"
   ]
  },
  {
   "cell_type": "markdown",
   "metadata": {},
   "source": [
    "A ausência da região do mundo impactou bastante o score e treinar sem aquela região trouxe baixos scores na validação com a mesma. Isso significa que exista uma importância da região."
   ]
  }
 ],
 "metadata": {
  "interpreter": {
   "hash": "6e607abaa517475297adc4c5ce0e20c958febf53b6bace5f653445ec5f32eea0"
  },
  "kernelspec": {
   "display_name": "Python 3.10.0 64-bit",
   "language": "python",
   "name": "python3"
  },
  "language_info": {
   "codemirror_mode": {
    "name": "ipython",
    "version": 3
   },
   "file_extension": ".py",
   "mimetype": "text/x-python",
   "name": "python",
   "nbconvert_exporter": "python",
   "pygments_lexer": "ipython3",
   "version": "3.10.0"
  },
  "orig_nbformat": 4
 },
 "nbformat": 4,
 "nbformat_minor": 2
}
