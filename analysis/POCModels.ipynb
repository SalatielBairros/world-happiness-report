{
 "cells": [
  {
   "cell_type": "code",
   "execution_count": 26,
   "metadata": {},
   "outputs": [],
   "source": [
    "import pandas as pd\n",
    "import seaborn as sns\n",
    "import matplotlib.pyplot as plt\n",
    "import numpy as np\n",
    "from sklearn.model_selection import train_test_split\n",
    "from sklearn.linear_model import LinearRegression, ElasticNetCV, BayesianRidge\n",
    "from sklearn.svm import SVR\n",
    "from sklearn.neighbors import KNeighborsRegressor\n",
    "from sklearn.ensemble import RandomForestRegressor\n",
    "from sklearn.tree import DecisionTreeRegressor"
   ]
  },
  {
   "cell_type": "code",
   "execution_count": 8,
   "metadata": {},
   "outputs": [],
   "source": [
    "SEED = 42\n",
    "np.random.seed(SEED)"
   ]
  },
  {
   "cell_type": "code",
   "execution_count": 9,
   "metadata": {},
   "outputs": [
    {
     "data": {
      "text/html": [
       "<div>\n",
       "<style scoped>\n",
       "    .dataframe tbody tr th:only-of-type {\n",
       "        vertical-align: middle;\n",
       "    }\n",
       "\n",
       "    .dataframe tbody tr th {\n",
       "        vertical-align: top;\n",
       "    }\n",
       "\n",
       "    .dataframe thead th {\n",
       "        text-align: right;\n",
       "    }\n",
       "</style>\n",
       "<table border=\"1\" class=\"dataframe\">\n",
       "  <thead>\n",
       "    <tr style=\"text-align: right;\">\n",
       "      <th></th>\n",
       "      <th>country</th>\n",
       "      <th>region</th>\n",
       "      <th>score</th>\n",
       "      <th>gdp</th>\n",
       "      <th>social_support</th>\n",
       "      <th>hle</th>\n",
       "      <th>freedom</th>\n",
       "      <th>generosity</th>\n",
       "      <th>corruption</th>\n",
       "      <th>positive_affect</th>\n",
       "      <th>negative_affect</th>\n",
       "      <th>year</th>\n",
       "    </tr>\n",
       "  </thead>\n",
       "  <tbody>\n",
       "    <tr>\n",
       "      <th>0</th>\n",
       "      <td>afghanistan</td>\n",
       "      <td>asia</td>\n",
       "      <td>3.723590</td>\n",
       "      <td>7.370100</td>\n",
       "      <td>0.450662</td>\n",
       "      <td>50.799999</td>\n",
       "      <td>0.718114</td>\n",
       "      <td>0.167640</td>\n",
       "      <td>0.881686</td>\n",
       "      <td>0.517637</td>\n",
       "      <td>0.258195</td>\n",
       "      <td>2008</td>\n",
       "    </tr>\n",
       "    <tr>\n",
       "      <th>1</th>\n",
       "      <td>afghanistan</td>\n",
       "      <td>asia</td>\n",
       "      <td>4.401778</td>\n",
       "      <td>7.539972</td>\n",
       "      <td>0.552308</td>\n",
       "      <td>51.200001</td>\n",
       "      <td>0.678896</td>\n",
       "      <td>0.190099</td>\n",
       "      <td>0.850035</td>\n",
       "      <td>0.583926</td>\n",
       "      <td>0.237092</td>\n",
       "      <td>2009</td>\n",
       "    </tr>\n",
       "    <tr>\n",
       "      <th>2</th>\n",
       "      <td>afghanistan</td>\n",
       "      <td>asia</td>\n",
       "      <td>4.758381</td>\n",
       "      <td>7.646709</td>\n",
       "      <td>0.539075</td>\n",
       "      <td>51.599998</td>\n",
       "      <td>0.600127</td>\n",
       "      <td>0.120590</td>\n",
       "      <td>0.706766</td>\n",
       "      <td>0.618265</td>\n",
       "      <td>0.275324</td>\n",
       "      <td>2010</td>\n",
       "    </tr>\n",
       "    <tr>\n",
       "      <th>3</th>\n",
       "      <td>afghanistan</td>\n",
       "      <td>asia</td>\n",
       "      <td>3.831719</td>\n",
       "      <td>7.619532</td>\n",
       "      <td>0.521104</td>\n",
       "      <td>51.919998</td>\n",
       "      <td>0.495901</td>\n",
       "      <td>0.162427</td>\n",
       "      <td>0.731109</td>\n",
       "      <td>0.611387</td>\n",
       "      <td>0.267175</td>\n",
       "      <td>2011</td>\n",
       "    </tr>\n",
       "    <tr>\n",
       "      <th>4</th>\n",
       "      <td>afghanistan</td>\n",
       "      <td>asia</td>\n",
       "      <td>3.782938</td>\n",
       "      <td>7.705479</td>\n",
       "      <td>0.520637</td>\n",
       "      <td>52.240002</td>\n",
       "      <td>0.530935</td>\n",
       "      <td>0.236032</td>\n",
       "      <td>0.775620</td>\n",
       "      <td>0.710385</td>\n",
       "      <td>0.267919</td>\n",
       "      <td>2012</td>\n",
       "    </tr>\n",
       "  </tbody>\n",
       "</table>\n",
       "</div>"
      ],
      "text/plain": [
       "       country region     score       gdp  social_support        hle  \\\n",
       "0  afghanistan   asia  3.723590  7.370100        0.450662  50.799999   \n",
       "1  afghanistan   asia  4.401778  7.539972        0.552308  51.200001   \n",
       "2  afghanistan   asia  4.758381  7.646709        0.539075  51.599998   \n",
       "3  afghanistan   asia  3.831719  7.619532        0.521104  51.919998   \n",
       "4  afghanistan   asia  3.782938  7.705479        0.520637  52.240002   \n",
       "\n",
       "    freedom  generosity  corruption  positive_affect  negative_affect  year  \n",
       "0  0.718114    0.167640    0.881686         0.517637         0.258195  2008  \n",
       "1  0.678896    0.190099    0.850035         0.583926         0.237092  2009  \n",
       "2  0.600127    0.120590    0.706766         0.618265         0.275324  2010  \n",
       "3  0.495901    0.162427    0.731109         0.611387         0.267175  2011  \n",
       "4  0.530935    0.236032    0.775620         0.710385         0.267919  2012  "
      ]
     },
     "execution_count": 9,
     "metadata": {},
     "output_type": "execute_result"
    }
   ],
   "source": [
    "dataset = pd.read_csv('../data/complete_dataset_region/complete_dataset_region.csv')\n",
    "dataset.head()"
   ]
  },
  {
   "cell_type": "code",
   "execution_count": 10,
   "metadata": {},
   "outputs": [
    {
     "data": {
      "text/html": [
       "<div>\n",
       "<style scoped>\n",
       "    .dataframe tbody tr th:only-of-type {\n",
       "        vertical-align: middle;\n",
       "    }\n",
       "\n",
       "    .dataframe tbody tr th {\n",
       "        vertical-align: top;\n",
       "    }\n",
       "\n",
       "    .dataframe thead th {\n",
       "        text-align: right;\n",
       "    }\n",
       "</style>\n",
       "<table border=\"1\" class=\"dataframe\">\n",
       "  <thead>\n",
       "    <tr style=\"text-align: right;\">\n",
       "      <th></th>\n",
       "      <th>country</th>\n",
       "      <th>region</th>\n",
       "      <th>score</th>\n",
       "      <th>gdp</th>\n",
       "      <th>social_support</th>\n",
       "      <th>hle</th>\n",
       "      <th>freedom</th>\n",
       "      <th>generosity</th>\n",
       "      <th>corruption</th>\n",
       "      <th>positive_affect</th>\n",
       "      <th>negative_affect</th>\n",
       "      <th>year</th>\n",
       "      <th>cat_region</th>\n",
       "    </tr>\n",
       "  </thead>\n",
       "  <tbody>\n",
       "    <tr>\n",
       "      <th>1005</th>\n",
       "      <td>lithuania</td>\n",
       "      <td>baltics</td>\n",
       "      <td>5.065825</td>\n",
       "      <td>10.085495</td>\n",
       "      <td>0.881811</td>\n",
       "      <td>64.500000</td>\n",
       "      <td>0.519352</td>\n",
       "      <td>-0.274880</td>\n",
       "      <td>0.962167</td>\n",
       "      <td>0.473150</td>\n",
       "      <td>0.272029</td>\n",
       "      <td>2010</td>\n",
       "      <td>1</td>\n",
       "    </tr>\n",
       "    <tr>\n",
       "      <th>1078</th>\n",
       "      <td>malta</td>\n",
       "      <td>western europe</td>\n",
       "      <td>6.154718</td>\n",
       "      <td>10.370396</td>\n",
       "      <td>0.922640</td>\n",
       "      <td>71.720001</td>\n",
       "      <td>0.881922</td>\n",
       "      <td>0.295860</td>\n",
       "      <td>0.652986</td>\n",
       "      <td>0.736184</td>\n",
       "      <td>0.339703</td>\n",
       "      <td>2011</td>\n",
       "      <td>10</td>\n",
       "    </tr>\n",
       "    <tr>\n",
       "      <th>67</th>\n",
       "      <td>australia</td>\n",
       "      <td>oceania</td>\n",
       "      <td>7.285391</td>\n",
       "      <td>10.702894</td>\n",
       "      <td>0.965276</td>\n",
       "      <td>71.720001</td>\n",
       "      <td>0.890682</td>\n",
       "      <td>0.347052</td>\n",
       "      <td>0.512578</td>\n",
       "      <td>0.826251</td>\n",
       "      <td>0.215351</td>\n",
       "      <td>2007</td>\n",
       "      <td>8</td>\n",
       "    </tr>\n",
       "    <tr>\n",
       "      <th>867</th>\n",
       "      <td>jordan</td>\n",
       "      <td>near east</td>\n",
       "      <td>5.171953</td>\n",
       "      <td>9.237214</td>\n",
       "      <td>0.840379</td>\n",
       "      <td>65.599998</td>\n",
       "      <td>0.692227</td>\n",
       "      <td>-0.116707</td>\n",
       "      <td>0.744979</td>\n",
       "      <td>0.684084</td>\n",
       "      <td>0.286033</td>\n",
       "      <td>2013</td>\n",
       "      <td>5</td>\n",
       "    </tr>\n",
       "    <tr>\n",
       "      <th>650</th>\n",
       "      <td>guatemala</td>\n",
       "      <td>latin amer. and carib</td>\n",
       "      <td>5.901429</td>\n",
       "      <td>8.849806</td>\n",
       "      <td>0.830442</td>\n",
       "      <td>60.740002</td>\n",
       "      <td>0.663382</td>\n",
       "      <td>0.172222</td>\n",
       "      <td>0.706096</td>\n",
       "      <td>0.818015</td>\n",
       "      <td>0.287082</td>\n",
       "      <td>2006</td>\n",
       "      <td>4</td>\n",
       "    </tr>\n",
       "  </tbody>\n",
       "</table>\n",
       "</div>"
      ],
      "text/plain": [
       "        country                 region     score        gdp  social_support  \\\n",
       "1005  lithuania                baltics  5.065825  10.085495        0.881811   \n",
       "1078      malta         western europe  6.154718  10.370396        0.922640   \n",
       "67    australia                oceania  7.285391  10.702894        0.965276   \n",
       "867      jordan              near east  5.171953   9.237214        0.840379   \n",
       "650   guatemala  latin amer. and carib  5.901429   8.849806        0.830442   \n",
       "\n",
       "            hle   freedom  generosity  corruption  positive_affect  \\\n",
       "1005  64.500000  0.519352   -0.274880    0.962167         0.473150   \n",
       "1078  71.720001  0.881922    0.295860    0.652986         0.736184   \n",
       "67    71.720001  0.890682    0.347052    0.512578         0.826251   \n",
       "867   65.599998  0.692227   -0.116707    0.744979         0.684084   \n",
       "650   60.740002  0.663382    0.172222    0.706096         0.818015   \n",
       "\n",
       "      negative_affect  year  cat_region  \n",
       "1005         0.272029  2010           1  \n",
       "1078         0.339703  2011          10  \n",
       "67           0.215351  2007           8  \n",
       "867          0.286033  2013           5  \n",
       "650          0.287082  2006           4  "
      ]
     },
     "execution_count": 10,
     "metadata": {},
     "output_type": "execute_result"
    }
   ],
   "source": [
    "dataset['cat_region'] = pd.Categorical(dataset['region'])\n",
    "dataset['cat_region'] = dataset['cat_region'].cat.codes\n",
    "dataset.sample(5)"
   ]
  },
  {
   "cell_type": "code",
   "execution_count": 11,
   "metadata": {},
   "outputs": [],
   "source": [
    "X = dataset.drop(['country', 'region', 'score'], axis=1)\n",
    "y = dataset['score']\n",
    "x_train, x_test, y_train, y_test = train_test_split(X, y, test_size=0.2, random_state=SEED)"
   ]
  },
  {
   "cell_type": "code",
   "execution_count": 12,
   "metadata": {},
   "outputs": [
    {
     "data": {
      "text/plain": [
       "0.7614237962949602"
      ]
     },
     "execution_count": 12,
     "metadata": {},
     "output_type": "execute_result"
    }
   ],
   "source": [
    "LinearRegression().fit(x_train, y_train).score(x_test, y_test)"
   ]
  },
  {
   "cell_type": "code",
   "execution_count": 13,
   "metadata": {},
   "outputs": [
    {
     "data": {
      "text/plain": [
       "0.7424025041842205"
      ]
     },
     "execution_count": 13,
     "metadata": {},
     "output_type": "execute_result"
    }
   ],
   "source": [
    "ElasticNetCV(random_state=SEED).fit(x_train, y_train).score(x_test, y_test)"
   ]
  },
  {
   "cell_type": "code",
   "execution_count": 14,
   "metadata": {},
   "outputs": [
    {
     "data": {
      "text/plain": [
       "0.7613085330427756"
      ]
     },
     "execution_count": 14,
     "metadata": {},
     "output_type": "execute_result"
    }
   ],
   "source": [
    "BayesianRidge().fit(x_train, y_train).score(x_test, y_test)"
   ]
  },
  {
   "cell_type": "code",
   "execution_count": 15,
   "metadata": {},
   "outputs": [
    {
     "data": {
      "text/plain": [
       "0.8223662918819352"
      ]
     },
     "execution_count": 15,
     "metadata": {},
     "output_type": "execute_result"
    }
   ],
   "source": [
    "SVR(kernel=\"rbf\", C=100, gamma=0.1, epsilon=0.1).fit(x_train, y_train).score(x_test, y_test)"
   ]
  },
  {
   "cell_type": "code",
   "execution_count": 22,
   "metadata": {},
   "outputs": [
    {
     "data": {
      "text/plain": [
       "0.7661748967848726"
      ]
     },
     "execution_count": 22,
     "metadata": {},
     "output_type": "execute_result"
    }
   ],
   "source": [
    "KNeighborsRegressor(n_neighbors=5).fit(x_train, y_train).score(x_test, y_test)"
   ]
  },
  {
   "cell_type": "code",
   "execution_count": 24,
   "metadata": {},
   "outputs": [
    {
     "data": {
      "text/plain": [
       "0.8919773572365879"
      ]
     },
     "execution_count": 24,
     "metadata": {},
     "output_type": "execute_result"
    }
   ],
   "source": [
    "RandomForestRegressor(random_state=SEED).fit(x_train, y_train).score(x_test, y_test)"
   ]
  },
  {
   "cell_type": "code",
   "execution_count": 27,
   "metadata": {},
   "outputs": [
    {
     "data": {
      "text/plain": [
       "0.7947418675313962"
      ]
     },
     "execution_count": 27,
     "metadata": {},
     "output_type": "execute_result"
    }
   ],
   "source": [
    "DecisionTreeRegressor(random_state=SEED).fit(x_train, y_train).score(x_test, y_test)"
   ]
  },
  {
   "cell_type": "code",
   "execution_count": 28,
   "metadata": {},
   "outputs": [
    {
     "data": {
      "text/html": [
       "<div>\n",
       "<style scoped>\n",
       "    .dataframe tbody tr th:only-of-type {\n",
       "        vertical-align: middle;\n",
       "    }\n",
       "\n",
       "    .dataframe tbody tr th {\n",
       "        vertical-align: top;\n",
       "    }\n",
       "\n",
       "    .dataframe thead th {\n",
       "        text-align: right;\n",
       "    }\n",
       "</style>\n",
       "<table border=\"1\" class=\"dataframe\">\n",
       "  <thead>\n",
       "    <tr style=\"text-align: right;\">\n",
       "      <th></th>\n",
       "      <th>score</th>\n",
       "      <th>gdp</th>\n",
       "      <th>social_support</th>\n",
       "      <th>hle</th>\n",
       "      <th>freedom</th>\n",
       "      <th>generosity</th>\n",
       "      <th>corruption</th>\n",
       "      <th>positive_affect</th>\n",
       "      <th>negative_affect</th>\n",
       "      <th>year</th>\n",
       "      <th>cat_region</th>\n",
       "    </tr>\n",
       "  </thead>\n",
       "  <tbody>\n",
       "    <tr>\n",
       "      <th>score</th>\n",
       "      <td>1.000000</td>\n",
       "      <td>0.786760</td>\n",
       "      <td>0.710903</td>\n",
       "      <td>0.742423</td>\n",
       "      <td>0.524903</td>\n",
       "      <td>0.171968</td>\n",
       "      <td>-0.423622</td>\n",
       "      <td>0.526402</td>\n",
       "      <td>-0.305731</td>\n",
       "      <td>0.037531</td>\n",
       "      <td>0.059246</td>\n",
       "    </tr>\n",
       "    <tr>\n",
       "      <th>gdp</th>\n",
       "      <td>0.786760</td>\n",
       "      <td>1.000000</td>\n",
       "      <td>0.689782</td>\n",
       "      <td>0.834704</td>\n",
       "      <td>0.362880</td>\n",
       "      <td>-0.013398</td>\n",
       "      <td>-0.339782</td>\n",
       "      <td>0.299136</td>\n",
       "      <td>-0.224299</td>\n",
       "      <td>0.074857</td>\n",
       "      <td>-0.051085</td>\n",
       "    </tr>\n",
       "    <tr>\n",
       "      <th>social_support</th>\n",
       "      <td>0.710903</td>\n",
       "      <td>0.689782</td>\n",
       "      <td>1.000000</td>\n",
       "      <td>0.620191</td>\n",
       "      <td>0.412178</td>\n",
       "      <td>0.049919</td>\n",
       "      <td>-0.220744</td>\n",
       "      <td>0.429108</td>\n",
       "      <td>-0.403003</td>\n",
       "      <td>-0.006371</td>\n",
       "      <td>-0.008218</td>\n",
       "    </tr>\n",
       "    <tr>\n",
       "      <th>hle</th>\n",
       "      <td>0.742423</td>\n",
       "      <td>0.834704</td>\n",
       "      <td>0.620191</td>\n",
       "      <td>1.000000</td>\n",
       "      <td>0.388563</td>\n",
       "      <td>0.007027</td>\n",
       "      <td>-0.320664</td>\n",
       "      <td>0.309012</td>\n",
       "      <td>-0.147952</td>\n",
       "      <td>0.165953</td>\n",
       "      <td>-0.158477</td>\n",
       "    </tr>\n",
       "    <tr>\n",
       "      <th>freedom</th>\n",
       "      <td>0.524903</td>\n",
       "      <td>0.362880</td>\n",
       "      <td>0.412178</td>\n",
       "      <td>0.388563</td>\n",
       "      <td>1.000000</td>\n",
       "      <td>0.305791</td>\n",
       "      <td>-0.472828</td>\n",
       "      <td>0.602394</td>\n",
       "      <td>-0.267733</td>\n",
       "      <td>0.227725</td>\n",
       "      <td>0.060306</td>\n",
       "    </tr>\n",
       "    <tr>\n",
       "      <th>generosity</th>\n",
       "      <td>0.171968</td>\n",
       "      <td>-0.013398</td>\n",
       "      <td>0.049919</td>\n",
       "      <td>0.007027</td>\n",
       "      <td>0.305791</td>\n",
       "      <td>1.000000</td>\n",
       "      <td>-0.278279</td>\n",
       "      <td>0.334181</td>\n",
       "      <td>-0.077491</td>\n",
       "      <td>-0.036023</td>\n",
       "      <td>0.057679</td>\n",
       "    </tr>\n",
       "    <tr>\n",
       "      <th>corruption</th>\n",
       "      <td>-0.423622</td>\n",
       "      <td>-0.339782</td>\n",
       "      <td>-0.220744</td>\n",
       "      <td>-0.320664</td>\n",
       "      <td>-0.472828</td>\n",
       "      <td>-0.278279</td>\n",
       "      <td>1.000000</td>\n",
       "      <td>-0.285842</td>\n",
       "      <td>0.259155</td>\n",
       "      <td>-0.074125</td>\n",
       "      <td>-0.252090</td>\n",
       "    </tr>\n",
       "    <tr>\n",
       "      <th>positive_affect</th>\n",
       "      <td>0.526402</td>\n",
       "      <td>0.299136</td>\n",
       "      <td>0.429108</td>\n",
       "      <td>0.309012</td>\n",
       "      <td>0.602394</td>\n",
       "      <td>0.334181</td>\n",
       "      <td>-0.285842</td>\n",
       "      <td>1.000000</td>\n",
       "      <td>-0.372828</td>\n",
       "      <td>-0.001139</td>\n",
       "      <td>0.075334</td>\n",
       "    </tr>\n",
       "    <tr>\n",
       "      <th>negative_affect</th>\n",
       "      <td>-0.305731</td>\n",
       "      <td>-0.224299</td>\n",
       "      <td>-0.403003</td>\n",
       "      <td>-0.147952</td>\n",
       "      <td>-0.267733</td>\n",
       "      <td>-0.077491</td>\n",
       "      <td>0.259155</td>\n",
       "      <td>-0.372828</td>\n",
       "      <td>1.000000</td>\n",
       "      <td>0.209917</td>\n",
       "      <td>0.038011</td>\n",
       "    </tr>\n",
       "    <tr>\n",
       "      <th>year</th>\n",
       "      <td>0.037531</td>\n",
       "      <td>0.074857</td>\n",
       "      <td>-0.006371</td>\n",
       "      <td>0.165953</td>\n",
       "      <td>0.227725</td>\n",
       "      <td>-0.036023</td>\n",
       "      <td>-0.074125</td>\n",
       "      <td>-0.001139</td>\n",
       "      <td>0.209917</td>\n",
       "      <td>1.000000</td>\n",
       "      <td>0.038731</td>\n",
       "    </tr>\n",
       "    <tr>\n",
       "      <th>cat_region</th>\n",
       "      <td>0.059246</td>\n",
       "      <td>-0.051085</td>\n",
       "      <td>-0.008218</td>\n",
       "      <td>-0.158477</td>\n",
       "      <td>0.060306</td>\n",
       "      <td>0.057679</td>\n",
       "      <td>-0.252090</td>\n",
       "      <td>0.075334</td>\n",
       "      <td>0.038011</td>\n",
       "      <td>0.038731</td>\n",
       "      <td>1.000000</td>\n",
       "    </tr>\n",
       "  </tbody>\n",
       "</table>\n",
       "</div>"
      ],
      "text/plain": [
       "                    score       gdp  social_support       hle   freedom  \\\n",
       "score            1.000000  0.786760        0.710903  0.742423  0.524903   \n",
       "gdp              0.786760  1.000000        0.689782  0.834704  0.362880   \n",
       "social_support   0.710903  0.689782        1.000000  0.620191  0.412178   \n",
       "hle              0.742423  0.834704        0.620191  1.000000  0.388563   \n",
       "freedom          0.524903  0.362880        0.412178  0.388563  1.000000   \n",
       "generosity       0.171968 -0.013398        0.049919  0.007027  0.305791   \n",
       "corruption      -0.423622 -0.339782       -0.220744 -0.320664 -0.472828   \n",
       "positive_affect  0.526402  0.299136        0.429108  0.309012  0.602394   \n",
       "negative_affect -0.305731 -0.224299       -0.403003 -0.147952 -0.267733   \n",
       "year             0.037531  0.074857       -0.006371  0.165953  0.227725   \n",
       "cat_region       0.059246 -0.051085       -0.008218 -0.158477  0.060306   \n",
       "\n",
       "                 generosity  corruption  positive_affect  negative_affect  \\\n",
       "score              0.171968   -0.423622         0.526402        -0.305731   \n",
       "gdp               -0.013398   -0.339782         0.299136        -0.224299   \n",
       "social_support     0.049919   -0.220744         0.429108        -0.403003   \n",
       "hle                0.007027   -0.320664         0.309012        -0.147952   \n",
       "freedom            0.305791   -0.472828         0.602394        -0.267733   \n",
       "generosity         1.000000   -0.278279         0.334181        -0.077491   \n",
       "corruption        -0.278279    1.000000        -0.285842         0.259155   \n",
       "positive_affect    0.334181   -0.285842         1.000000        -0.372828   \n",
       "negative_affect   -0.077491    0.259155        -0.372828         1.000000   \n",
       "year              -0.036023   -0.074125        -0.001139         0.209917   \n",
       "cat_region         0.057679   -0.252090         0.075334         0.038011   \n",
       "\n",
       "                     year  cat_region  \n",
       "score            0.037531    0.059246  \n",
       "gdp              0.074857   -0.051085  \n",
       "social_support  -0.006371   -0.008218  \n",
       "hle              0.165953   -0.158477  \n",
       "freedom          0.227725    0.060306  \n",
       "generosity      -0.036023    0.057679  \n",
       "corruption      -0.074125   -0.252090  \n",
       "positive_affect -0.001139    0.075334  \n",
       "negative_affect  0.209917    0.038011  \n",
       "year             1.000000    0.038731  \n",
       "cat_region       0.038731    1.000000  "
      ]
     },
     "execution_count": 28,
     "metadata": {},
     "output_type": "execute_result"
    }
   ],
   "source": [
    "dataset.corr()"
   ]
  },
  {
   "cell_type": "code",
   "execution_count": 29,
   "metadata": {},
   "outputs": [
    {
     "data": {
      "text/plain": [
       "<AxesSubplot:xlabel='score', ylabel='gdp'>"
      ]
     },
     "execution_count": 29,
     "metadata": {},
     "output_type": "execute_result"
    },
    {
     "data": {
      "image/png": "[encoded data removed]",
      "text/plain": [
       "<Figure size 432x288 with 1 Axes>"
      ]
     },
     "metadata": {
      "needs_background": "light"
     },
     "output_type": "display_data"
    }
   ],
   "source": [
    "sns.scatterplot(x='score', y='gdp', data=dataset)"
   ]
  },
  {
   "cell_type": "code",
   "execution_count": 31,
   "metadata": {},
   "outputs": [
    {
     "data": {
      "text/plain": [
       "0.9851843990679581"
      ]
     },
     "execution_count": 31,
     "metadata": {},
     "output_type": "execute_result"
    }
   ],
   "source": [
    "RandomForestRegressor(random_state=SEED).fit(X, y).score(X, y)"
   ]
  },
  {
   "cell_type": "code",
   "execution_count": 32,
   "metadata": {},
   "outputs": [
    {
     "data": {
      "text/plain": [
       "0.9578919366886532"
      ]
     },
     "execution_count": 32,
     "metadata": {},
     "output_type": "execute_result"
    }
   ],
   "source": [
    "until_2020 = dataset.query('year <= 2020')\n",
    "X = until_2020.drop(['country', 'region', 'score'], axis=1)\n",
    "y = until_2020['score']\n",
    "since_2021 = dataset.query('year > 2020')\n",
    "X_test = since_2021.drop(['country', 'region', 'score'], axis=1)\n",
    "y_test = since_2021['score']\n",
    "\n",
    "RandomForestRegressor(random_state=SEED).fit(X, y).score(X_test, y_test)"
   ]
  },
  {
   "cell_type": "code",
   "execution_count": 48,
   "metadata": {},
   "outputs": [
    {
     "data": {
      "text/html": [
       "<div>\n",
       "<style scoped>\n",
       "    .dataframe tbody tr th:only-of-type {\n",
       "        vertical-align: middle;\n",
       "    }\n",
       "\n",
       "    .dataframe tbody tr th {\n",
       "        vertical-align: top;\n",
       "    }\n",
       "\n",
       "    .dataframe thead th {\n",
       "        text-align: right;\n",
       "    }\n",
       "</style>\n",
       "<table border=\"1\" class=\"dataframe\">\n",
       "  <thead>\n",
       "    <tr style=\"text-align: right;\">\n",
       "      <th></th>\n",
       "      <th>score</th>\n",
       "      <th>gdp</th>\n",
       "    </tr>\n",
       "  </thead>\n",
       "  <tbody>\n",
       "    <tr>\n",
       "      <th>0</th>\n",
       "      <td>7.596195</td>\n",
       "      <td>10.775202</td>\n",
       "    </tr>\n",
       "    <tr>\n",
       "      <th>1</th>\n",
       "      <td>7.602485</td>\n",
       "      <td>10.933176</td>\n",
       "    </tr>\n",
       "    <tr>\n",
       "      <th>2</th>\n",
       "      <td>7.528490</td>\n",
       "      <td>11.117368</td>\n",
       "    </tr>\n",
       "    <tr>\n",
       "      <th>3</th>\n",
       "      <td>7.516699</td>\n",
       "      <td>10.877768</td>\n",
       "    </tr>\n",
       "    <tr>\n",
       "      <th>4</th>\n",
       "      <td>7.360250</td>\n",
       "      <td>10.931812</td>\n",
       "    </tr>\n",
       "    <tr>\n",
       "      <th>...</th>\n",
       "      <td>...</td>\n",
       "      <td>...</td>\n",
       "    </tr>\n",
       "    <tr>\n",
       "      <th>144</th>\n",
       "      <td>3.701441</td>\n",
       "      <td>7.925777</td>\n",
       "    </tr>\n",
       "    <tr>\n",
       "      <th>145</th>\n",
       "      <td>3.768251</td>\n",
       "      <td>9.781536</td>\n",
       "    </tr>\n",
       "    <tr>\n",
       "      <th>146</th>\n",
       "      <td>3.827935</td>\n",
       "      <td>7.676118</td>\n",
       "    </tr>\n",
       "    <tr>\n",
       "      <th>147</th>\n",
       "      <td>3.692894</td>\n",
       "      <td>7.942595</td>\n",
       "    </tr>\n",
       "    <tr>\n",
       "      <th>148</th>\n",
       "      <td>2.670481</td>\n",
       "      <td>7.694710</td>\n",
       "    </tr>\n",
       "  </tbody>\n",
       "</table>\n",
       "<p>149 rows × 2 columns</p>\n",
       "</div>"
      ],
      "text/plain": [
       "        score        gdp\n",
       "0    7.596195  10.775202\n",
       "1    7.602485  10.933176\n",
       "2    7.528490  11.117368\n",
       "3    7.516699  10.877768\n",
       "4    7.360250  10.931812\n",
       "..        ...        ...\n",
       "144  3.701441   7.925777\n",
       "145  3.768251   9.781536\n",
       "146  3.827935   7.676118\n",
       "147  3.692894   7.942595\n",
       "148  2.670481   7.694710\n",
       "\n",
       "[149 rows x 2 columns]"
      ]
     },
     "execution_count": 48,
     "metadata": {},
     "output_type": "execute_result"
    }
   ],
   "source": [
    "predictions = RandomForestRegressor(random_state=SEED).fit(X, y).predict(X_test)\n",
    "result = pd.DataFrame([predictions, X_test['gdp']]).T.rename(columns={0: 'score', 1: 'gdp'})\n",
    "result"
   ]
  },
  {
   "cell_type": "code",
   "execution_count": 47,
   "metadata": {},
   "outputs": [
    {
     "data": {
      "image/png": "[encoded data removed]",
      "text/plain": [
       "<Figure size 1440x720 with 1 Axes>"
      ]
     },
     "metadata": {},
     "output_type": "display_data"
    }
   ],
   "source": [
    "sns.set(rc={'figure.figsize':(20,10)})\n",
    "sns.scatterplot(x='score', y='gdp', data=since_2021)\n",
    "sns.scatterplot(x='score', y='gdp', data=result)\n",
    "plt.show()"
   ]
  }
 ],
 "metadata": {
  "interpreter": {
   "hash": "6e607abaa517475297adc4c5ce0e20c958febf53b6bace5f653445ec5f32eea0"
  },
  "kernelspec": {
   "display_name": "Python 3.10.0 64-bit",
   "language": "python",
   "name": "python3"
  },
  "language_info": {
   "codemirror_mode": {
    "name": "ipython",
    "version": 3
   },
   "file_extension": ".py",
   "mimetype": "text/x-python",
   "name": "python",
   "nbconvert_exporter": "python",
   "pygments_lexer": "ipython3",
   "version": "3.10.0"
  },
  "orig_nbformat": 4
 },
 "nbformat": 4,
 "nbformat_minor": 2
}
