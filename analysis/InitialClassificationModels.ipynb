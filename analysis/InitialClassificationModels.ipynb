{
 "cells": [
  {
   "cell_type": "code",
   "execution_count": 1,
   "metadata": {},
   "outputs": [],
   "source": [
    "import pandas as pd\n",
    "from sklearn.model_selection import train_test_split\n",
    "from sklearn.ensemble import RandomForestClassifier\n",
    "from sklearn.tree import DecisionTreeClassifier\n",
    "from sklearn.neighbors import KNeighborsClassifier\n",
    "from sklearn import metrics\n",
    "import matplotlib.pyplot as plt"
   ]
  },
  {
   "cell_type": "code",
   "execution_count": 2,
   "metadata": {},
   "outputs": [
    {
     "data": {
      "text/html": [
       "<div>\n",
       "<style scoped>\n",
       "    .dataframe tbody tr th:only-of-type {\n",
       "        vertical-align: middle;\n",
       "    }\n",
       "\n",
       "    .dataframe tbody tr th {\n",
       "        vertical-align: top;\n",
       "    }\n",
       "\n",
       "    .dataframe thead th {\n",
       "        text-align: right;\n",
       "    }\n",
       "</style>\n",
       "<table border=\"1\" class=\"dataframe\">\n",
       "  <thead>\n",
       "    <tr style=\"text-align: right;\">\n",
       "      <th></th>\n",
       "      <th>score</th>\n",
       "      <th>gdp</th>\n",
       "      <th>social_support</th>\n",
       "      <th>freedom</th>\n",
       "      <th>generosity</th>\n",
       "      <th>corruption</th>\n",
       "      <th>positive_affect</th>\n",
       "      <th>negative_affect</th>\n",
       "      <th>cat_region</th>\n",
       "      <th>scaled_hle</th>\n",
       "    </tr>\n",
       "  </thead>\n",
       "  <tbody>\n",
       "    <tr>\n",
       "      <th>0</th>\n",
       "      <td>3.723590</td>\n",
       "      <td>7.370100</td>\n",
       "      <td>0.450662</td>\n",
       "      <td>0.718114</td>\n",
       "      <td>0.167640</td>\n",
       "      <td>0.881686</td>\n",
       "      <td>0.517637</td>\n",
       "      <td>0.258195</td>\n",
       "      <td>0</td>\n",
       "      <td>0.440000</td>\n",
       "    </tr>\n",
       "    <tr>\n",
       "      <th>1</th>\n",
       "      <td>4.401778</td>\n",
       "      <td>7.539972</td>\n",
       "      <td>0.552308</td>\n",
       "      <td>0.678896</td>\n",
       "      <td>0.190099</td>\n",
       "      <td>0.850035</td>\n",
       "      <td>0.583926</td>\n",
       "      <td>0.237092</td>\n",
       "      <td>0</td>\n",
       "      <td>0.445714</td>\n",
       "    </tr>\n",
       "    <tr>\n",
       "      <th>2</th>\n",
       "      <td>4.758381</td>\n",
       "      <td>7.646709</td>\n",
       "      <td>0.539075</td>\n",
       "      <td>0.600127</td>\n",
       "      <td>0.120590</td>\n",
       "      <td>0.706766</td>\n",
       "      <td>0.618265</td>\n",
       "      <td>0.275324</td>\n",
       "      <td>0</td>\n",
       "      <td>0.451429</td>\n",
       "    </tr>\n",
       "    <tr>\n",
       "      <th>3</th>\n",
       "      <td>3.831719</td>\n",
       "      <td>7.619532</td>\n",
       "      <td>0.521104</td>\n",
       "      <td>0.495901</td>\n",
       "      <td>0.162427</td>\n",
       "      <td>0.731109</td>\n",
       "      <td>0.611387</td>\n",
       "      <td>0.267175</td>\n",
       "      <td>0</td>\n",
       "      <td>0.456000</td>\n",
       "    </tr>\n",
       "    <tr>\n",
       "      <th>4</th>\n",
       "      <td>3.782938</td>\n",
       "      <td>7.705479</td>\n",
       "      <td>0.520637</td>\n",
       "      <td>0.530935</td>\n",
       "      <td>0.236032</td>\n",
       "      <td>0.775620</td>\n",
       "      <td>0.710385</td>\n",
       "      <td>0.267919</td>\n",
       "      <td>0</td>\n",
       "      <td>0.460571</td>\n",
       "    </tr>\n",
       "  </tbody>\n",
       "</table>\n",
       "</div>"
      ],
      "text/plain": [
       "      score       gdp  social_support   freedom  generosity  corruption  \\\n",
       "0  3.723590  7.370100        0.450662  0.718114    0.167640    0.881686   \n",
       "1  4.401778  7.539972        0.552308  0.678896    0.190099    0.850035   \n",
       "2  4.758381  7.646709        0.539075  0.600127    0.120590    0.706766   \n",
       "3  3.831719  7.619532        0.521104  0.495901    0.162427    0.731109   \n",
       "4  3.782938  7.705479        0.520637  0.530935    0.236032    0.775620   \n",
       "\n",
       "   positive_affect  negative_affect  cat_region  scaled_hle  \n",
       "0         0.517637         0.258195           0    0.440000  \n",
       "1         0.583926         0.237092           0    0.445714  \n",
       "2         0.618265         0.275324           0    0.451429  \n",
       "3         0.611387         0.267175           0    0.456000  \n",
       "4         0.710385         0.267919           0    0.460571  "
      ]
     },
     "execution_count": 2,
     "metadata": {},
     "output_type": "execute_result"
    }
   ],
   "source": [
    "columns_to_drop = ['country', 'region', 'hle', 'year', 'cat_country', 'rounded_score']\n",
    "full_dataset = pd.read_csv('../data/processed/processed_dataset.csv')\n",
    "region_names = full_dataset.groupby('cat_region')['region'].first().to_dict()\n",
    "dataset = full_dataset.drop(columns=columns_to_drop)\n",
    "dataset.head()"
   ]
  },
  {
   "cell_type": "code",
   "execution_count": 67,
   "metadata": {},
   "outputs": [
    {
     "data": {
      "text/plain": [
       "sub-saharan africa       463\n",
       "asia                     321\n",
       "latin amer. and carib    309\n",
       "western europe           292\n",
       "eastern europe           196\n",
       "c.w. of ind. states      182\n",
       "near east                171\n",
       "northern africa           56\n",
       "baltics                   46\n",
       "northern america          32\n",
       "oceania                   30\n",
       "Name: region, dtype: int64"
      ]
     },
     "execution_count": 67,
     "metadata": {},
     "output_type": "execute_result"
    }
   ],
   "source": [
    "full_dataset['region'].value_counts()"
   ]
  },
  {
   "cell_type": "code",
   "execution_count": 37,
   "metadata": {},
   "outputs": [],
   "source": [
    "X = dataset.drop(columns=['cat_region'])\n",
    "y = dataset['cat_region']"
   ]
  },
  {
   "cell_type": "code",
   "execution_count": 38,
   "metadata": {},
   "outputs": [],
   "source": [
    "x_train, x_test, y_train, y_test = train_test_split(X, y, test_size=0.2, random_state=42, stratify=y)"
   ]
  },
  {
   "cell_type": "code",
   "execution_count": 28,
   "metadata": {},
   "outputs": [
    {
     "data": {
      "text/plain": [
       "0.8166666666666667"
      ]
     },
     "execution_count": 28,
     "metadata": {},
     "output_type": "execute_result"
    }
   ],
   "source": [
    "DecisionTreeClassifier(random_state=42).fit(x_train, y_train).score(x_test, y_test)"
   ]
  },
  {
   "cell_type": "code",
   "execution_count": 39,
   "metadata": {},
   "outputs": [
    {
     "data": {
      "text/plain": [
       "0.919047619047619"
      ]
     },
     "execution_count": 39,
     "metadata": {},
     "output_type": "execute_result"
    }
   ],
   "source": [
    "RandomForestClassifier(random_state=42).fit(x_train, y_train).score(x_test, y_test)"
   ]
  },
  {
   "cell_type": "code",
   "execution_count": 31,
   "metadata": {},
   "outputs": [
    {
     "data": {
      "text/plain": [
       "0.8261904761904761"
      ]
     },
     "execution_count": 31,
     "metadata": {},
     "output_type": "execute_result"
    }
   ],
   "source": [
    "KNeighborsClassifier().fit(x_train, y_train).score(x_test, y_test)"
   ]
  },
  {
   "cell_type": "code",
   "execution_count": 41,
   "metadata": {},
   "outputs": [
    {
     "data": {
      "text/html": [
       "<div>\n",
       "<style scoped>\n",
       "    .dataframe tbody tr th:only-of-type {\n",
       "        vertical-align: middle;\n",
       "    }\n",
       "\n",
       "    .dataframe tbody tr th {\n",
       "        vertical-align: top;\n",
       "    }\n",
       "\n",
       "    .dataframe thead th {\n",
       "        text-align: right;\n",
       "    }\n",
       "</style>\n",
       "<table border=\"1\" class=\"dataframe\">\n",
       "  <thead>\n",
       "    <tr style=\"text-align: right;\">\n",
       "      <th></th>\n",
       "      <th>asia</th>\n",
       "      <th>baltics</th>\n",
       "      <th>c.w. of ind. states</th>\n",
       "      <th>eastern europe</th>\n",
       "      <th>latin amer. and carib</th>\n",
       "      <th>near east</th>\n",
       "      <th>northern africa</th>\n",
       "      <th>northern america</th>\n",
       "      <th>oceania</th>\n",
       "      <th>sub-saharan africa</th>\n",
       "      <th>western europe</th>\n",
       "      <th>accuracy</th>\n",
       "      <th>macro avg</th>\n",
       "      <th>weighted avg</th>\n",
       "    </tr>\n",
       "  </thead>\n",
       "  <tbody>\n",
       "    <tr>\n",
       "      <th>precision</th>\n",
       "      <td>0.907692</td>\n",
       "      <td>0.750000</td>\n",
       "      <td>0.921053</td>\n",
       "      <td>0.818182</td>\n",
       "      <td>0.935484</td>\n",
       "      <td>1.000000</td>\n",
       "      <td>1.000000</td>\n",
       "      <td>1.000000</td>\n",
       "      <td>1.000000</td>\n",
       "      <td>0.937500</td>\n",
       "      <td>0.920635</td>\n",
       "      <td>0.919048</td>\n",
       "      <td>0.926413</td>\n",
       "      <td>0.922227</td>\n",
       "    </tr>\n",
       "    <tr>\n",
       "      <th>recall</th>\n",
       "      <td>0.921875</td>\n",
       "      <td>0.666667</td>\n",
       "      <td>0.945946</td>\n",
       "      <td>0.923077</td>\n",
       "      <td>0.935484</td>\n",
       "      <td>0.823529</td>\n",
       "      <td>0.636364</td>\n",
       "      <td>0.833333</td>\n",
       "      <td>0.666667</td>\n",
       "      <td>0.967742</td>\n",
       "      <td>0.983051</td>\n",
       "      <td>0.919048</td>\n",
       "      <td>0.845794</td>\n",
       "      <td>0.919048</td>\n",
       "    </tr>\n",
       "    <tr>\n",
       "      <th>f1-score</th>\n",
       "      <td>0.914729</td>\n",
       "      <td>0.705882</td>\n",
       "      <td>0.933333</td>\n",
       "      <td>0.867470</td>\n",
       "      <td>0.935484</td>\n",
       "      <td>0.903226</td>\n",
       "      <td>0.777778</td>\n",
       "      <td>0.909091</td>\n",
       "      <td>0.800000</td>\n",
       "      <td>0.952381</td>\n",
       "      <td>0.950820</td>\n",
       "      <td>0.919048</td>\n",
       "      <td>0.877290</td>\n",
       "      <td>0.917738</td>\n",
       "    </tr>\n",
       "    <tr>\n",
       "      <th>support</th>\n",
       "      <td>64.000000</td>\n",
       "      <td>9.000000</td>\n",
       "      <td>37.000000</td>\n",
       "      <td>39.000000</td>\n",
       "      <td>62.000000</td>\n",
       "      <td>34.000000</td>\n",
       "      <td>11.000000</td>\n",
       "      <td>6.000000</td>\n",
       "      <td>6.000000</td>\n",
       "      <td>93.000000</td>\n",
       "      <td>59.000000</td>\n",
       "      <td>0.919048</td>\n",
       "      <td>420.000000</td>\n",
       "      <td>420.000000</td>\n",
       "    </tr>\n",
       "  </tbody>\n",
       "</table>\n",
       "</div>"
      ],
      "text/plain": [
       "                asia   baltics  c.w. of ind. states  eastern europe  \\\n",
       "precision   0.907692  0.750000             0.921053        0.818182   \n",
       "recall      0.921875  0.666667             0.945946        0.923077   \n",
       "f1-score    0.914729  0.705882             0.933333        0.867470   \n",
       "support    64.000000  9.000000            37.000000       39.000000   \n",
       "\n",
       "           latin amer. and carib  near east  northern africa  \\\n",
       "precision               0.935484   1.000000         1.000000   \n",
       "recall                  0.935484   0.823529         0.636364   \n",
       "f1-score                0.935484   0.903226         0.777778   \n",
       "support                62.000000  34.000000        11.000000   \n",
       "\n",
       "           northern america   oceania  sub-saharan africa  western europe  \\\n",
       "precision          1.000000  1.000000            0.937500        0.920635   \n",
       "recall             0.833333  0.666667            0.967742        0.983051   \n",
       "f1-score           0.909091  0.800000            0.952381        0.950820   \n",
       "support            6.000000  6.000000           93.000000       59.000000   \n",
       "\n",
       "           accuracy   macro avg  weighted avg  \n",
       "precision  0.919048    0.926413      0.922227  \n",
       "recall     0.919048    0.845794      0.919048  \n",
       "f1-score   0.919048    0.877290      0.917738  \n",
       "support    0.919048  420.000000    420.000000  "
      ]
     },
     "execution_count": 41,
     "metadata": {},
     "output_type": "execute_result"
    }
   ],
   "source": [
    "rf_model = RandomForestClassifier(random_state=42).fit(x_train, y_train)\n",
    "y_pred = rf_model.predict(x_test)\n",
    "pd.DataFrame(metrics.classification_report(y_test, y_pred, output_dict=True, target_names=list(region_names.values())))"
   ]
  },
  {
   "cell_type": "code",
   "execution_count": 68,
   "metadata": {},
   "outputs": [
    {
     "data": {
      "text/plain": [
       "array([0.10401599, 0.17551988, 0.06953177, 0.05689076, 0.09031898,\n",
       "       0.07648931, 0.10933178, 0.08078442, 0.2371171 ])"
      ]
     },
     "execution_count": 68,
     "metadata": {},
     "output_type": "execute_result"
    }
   ],
   "source": [
    "rf_model.feature_importances_"
   ]
  },
  {
   "cell_type": "code",
   "execution_count": 3,
   "metadata": {},
   "outputs": [
    {
     "data": {
      "text/plain": [
       "2     393\n",
       "5     393\n",
       "10    393\n",
       "9     393\n",
       "0     393\n",
       "3     393\n",
       "4     393\n",
       "7     393\n",
       "1     393\n",
       "6     393\n",
       "8     393\n",
       "Name: cat_region, dtype: int64"
      ]
     },
     "execution_count": 3,
     "metadata": {},
     "output_type": "execute_result"
    }
   ],
   "source": [
    "augmented_dataset = pd.read_csv('../data/processed/augmented_dataset.csv')\n",
    "augmented_dataset['cat_region'].value_counts()"
   ]
  },
  {
   "cell_type": "code",
   "execution_count": 71,
   "metadata": {},
   "outputs": [
    {
     "data": {
      "text/html": [
       "<div>\n",
       "<style scoped>\n",
       "    .dataframe tbody tr th:only-of-type {\n",
       "        vertical-align: middle;\n",
       "    }\n",
       "\n",
       "    .dataframe tbody tr th {\n",
       "        vertical-align: top;\n",
       "    }\n",
       "\n",
       "    .dataframe thead th {\n",
       "        text-align: right;\n",
       "    }\n",
       "</style>\n",
       "<table border=\"1\" class=\"dataframe\">\n",
       "  <thead>\n",
       "    <tr style=\"text-align: right;\">\n",
       "      <th></th>\n",
       "      <th>asia</th>\n",
       "      <th>baltics</th>\n",
       "      <th>c.w. of ind. states</th>\n",
       "      <th>eastern europe</th>\n",
       "      <th>latin amer. and carib</th>\n",
       "      <th>near east</th>\n",
       "      <th>northern africa</th>\n",
       "      <th>northern america</th>\n",
       "      <th>oceania</th>\n",
       "      <th>sub-saharan africa</th>\n",
       "      <th>western europe</th>\n",
       "      <th>accuracy</th>\n",
       "      <th>macro avg</th>\n",
       "      <th>weighted avg</th>\n",
       "    </tr>\n",
       "  </thead>\n",
       "  <tbody>\n",
       "    <tr>\n",
       "      <th>precision</th>\n",
       "      <td>0.938272</td>\n",
       "      <td>1.0</td>\n",
       "      <td>0.975309</td>\n",
       "      <td>0.940476</td>\n",
       "      <td>0.974359</td>\n",
       "      <td>1.000000</td>\n",
       "      <td>0.987500</td>\n",
       "      <td>0.975309</td>\n",
       "      <td>1.0</td>\n",
       "      <td>0.986301</td>\n",
       "      <td>1.000000</td>\n",
       "      <td>0.979191</td>\n",
       "      <td>0.979775</td>\n",
       "      <td>0.979769</td>\n",
       "    </tr>\n",
       "    <tr>\n",
       "      <th>recall</th>\n",
       "      <td>0.974359</td>\n",
       "      <td>1.0</td>\n",
       "      <td>1.000000</td>\n",
       "      <td>1.000000</td>\n",
       "      <td>0.962025</td>\n",
       "      <td>0.948718</td>\n",
       "      <td>1.000000</td>\n",
       "      <td>1.000000</td>\n",
       "      <td>1.0</td>\n",
       "      <td>0.923077</td>\n",
       "      <td>0.961538</td>\n",
       "      <td>0.979191</td>\n",
       "      <td>0.979065</td>\n",
       "      <td>0.979191</td>\n",
       "    </tr>\n",
       "    <tr>\n",
       "      <th>f1-score</th>\n",
       "      <td>0.955975</td>\n",
       "      <td>1.0</td>\n",
       "      <td>0.987500</td>\n",
       "      <td>0.969325</td>\n",
       "      <td>0.968153</td>\n",
       "      <td>0.973684</td>\n",
       "      <td>0.993711</td>\n",
       "      <td>0.987500</td>\n",
       "      <td>1.0</td>\n",
       "      <td>0.953642</td>\n",
       "      <td>0.980392</td>\n",
       "      <td>0.979191</td>\n",
       "      <td>0.979080</td>\n",
       "      <td>0.979141</td>\n",
       "    </tr>\n",
       "    <tr>\n",
       "      <th>support</th>\n",
       "      <td>78.000000</td>\n",
       "      <td>79.0</td>\n",
       "      <td>79.000000</td>\n",
       "      <td>79.000000</td>\n",
       "      <td>79.000000</td>\n",
       "      <td>78.000000</td>\n",
       "      <td>79.000000</td>\n",
       "      <td>79.000000</td>\n",
       "      <td>79.0</td>\n",
       "      <td>78.000000</td>\n",
       "      <td>78.000000</td>\n",
       "      <td>0.979191</td>\n",
       "      <td>865.000000</td>\n",
       "      <td>865.000000</td>\n",
       "    </tr>\n",
       "  </tbody>\n",
       "</table>\n",
       "</div>"
      ],
      "text/plain": [
       "                asia  baltics  c.w. of ind. states  eastern europe  \\\n",
       "precision   0.938272      1.0             0.975309        0.940476   \n",
       "recall      0.974359      1.0             1.000000        1.000000   \n",
       "f1-score    0.955975      1.0             0.987500        0.969325   \n",
       "support    78.000000     79.0            79.000000       79.000000   \n",
       "\n",
       "           latin amer. and carib  near east  northern africa  \\\n",
       "precision               0.974359   1.000000         0.987500   \n",
       "recall                  0.962025   0.948718         1.000000   \n",
       "f1-score                0.968153   0.973684         0.993711   \n",
       "support                79.000000  78.000000        79.000000   \n",
       "\n",
       "           northern america  oceania  sub-saharan africa  western europe  \\\n",
       "precision          0.975309      1.0            0.986301        1.000000   \n",
       "recall             1.000000      1.0            0.923077        0.961538   \n",
       "f1-score           0.987500      1.0            0.953642        0.980392   \n",
       "support           79.000000     79.0           78.000000       78.000000   \n",
       "\n",
       "           accuracy   macro avg  weighted avg  \n",
       "precision  0.979191    0.979775      0.979769  \n",
       "recall     0.979191    0.979065      0.979191  \n",
       "f1-score   0.979191    0.979080      0.979141  \n",
       "support    0.979191  865.000000    865.000000  "
      ]
     },
     "execution_count": 71,
     "metadata": {},
     "output_type": "execute_result"
    }
   ],
   "source": [
    "X = augmented_dataset.drop(columns=['cat_region'])\n",
    "y = augmented_dataset['cat_region']\n",
    "x_train, x_test, y_train, y_test = train_test_split(X, y, test_size=0.2, random_state=42, stratify=y)\n",
    "rf_model = RandomForestClassifier(random_state=42).fit(x_train, y_train)\n",
    "y_pred = rf_model.predict(x_test)\n",
    "pd.DataFrame(metrics.classification_report(y_test, y_pred, output_dict=True, target_names=list(region_names.values())))"
   ]
  },
  {
   "cell_type": "code",
   "execution_count": 72,
   "metadata": {},
   "outputs": [],
   "source": [
    "validation_dataset = pd.read_csv('../data/processed/validation_dataset.csv')"
   ]
  },
  {
   "cell_type": "code",
   "execution_count": 73,
   "metadata": {},
   "outputs": [],
   "source": [
    "X_val = validation_dataset.drop(columns=['cat_region'])\n",
    "y_val = validation_dataset['cat_region']"
   ]
  },
  {
   "cell_type": "code",
   "execution_count": 74,
   "metadata": {},
   "outputs": [
    {
     "data": {
      "text/html": [
       "<div>\n",
       "<style scoped>\n",
       "    .dataframe tbody tr th:only-of-type {\n",
       "        vertical-align: middle;\n",
       "    }\n",
       "\n",
       "    .dataframe tbody tr th {\n",
       "        vertical-align: top;\n",
       "    }\n",
       "\n",
       "    .dataframe thead th {\n",
       "        text-align: right;\n",
       "    }\n",
       "</style>\n",
       "<table border=\"1\" class=\"dataframe\">\n",
       "  <thead>\n",
       "    <tr style=\"text-align: right;\">\n",
       "      <th></th>\n",
       "      <th>asia</th>\n",
       "      <th>baltics</th>\n",
       "      <th>c.w. of ind. states</th>\n",
       "      <th>eastern europe</th>\n",
       "      <th>latin amer. and carib</th>\n",
       "      <th>near east</th>\n",
       "      <th>northern africa</th>\n",
       "      <th>northern america</th>\n",
       "      <th>oceania</th>\n",
       "      <th>sub-saharan africa</th>\n",
       "      <th>western europe</th>\n",
       "      <th>accuracy</th>\n",
       "      <th>macro avg</th>\n",
       "      <th>weighted avg</th>\n",
       "    </tr>\n",
       "  </thead>\n",
       "  <tbody>\n",
       "    <tr>\n",
       "      <th>precision</th>\n",
       "      <td>0.957447</td>\n",
       "      <td>0.700000</td>\n",
       "      <td>0.896552</td>\n",
       "      <td>0.866667</td>\n",
       "      <td>1.000000</td>\n",
       "      <td>1.000000</td>\n",
       "      <td>0.700000</td>\n",
       "      <td>0.833333</td>\n",
       "      <td>1.0</td>\n",
       "      <td>0.971429</td>\n",
       "      <td>0.976744</td>\n",
       "      <td>0.939683</td>\n",
       "      <td>0.900197</td>\n",
       "      <td>0.945845</td>\n",
       "    </tr>\n",
       "    <tr>\n",
       "      <th>recall</th>\n",
       "      <td>0.937500</td>\n",
       "      <td>1.000000</td>\n",
       "      <td>0.962963</td>\n",
       "      <td>0.896552</td>\n",
       "      <td>0.956522</td>\n",
       "      <td>0.807692</td>\n",
       "      <td>0.875000</td>\n",
       "      <td>1.000000</td>\n",
       "      <td>1.0</td>\n",
       "      <td>0.971429</td>\n",
       "      <td>0.954545</td>\n",
       "      <td>0.939683</td>\n",
       "      <td>0.942018</td>\n",
       "      <td>0.939683</td>\n",
       "    </tr>\n",
       "    <tr>\n",
       "      <th>f1-score</th>\n",
       "      <td>0.947368</td>\n",
       "      <td>0.823529</td>\n",
       "      <td>0.928571</td>\n",
       "      <td>0.881356</td>\n",
       "      <td>0.977778</td>\n",
       "      <td>0.893617</td>\n",
       "      <td>0.777778</td>\n",
       "      <td>0.909091</td>\n",
       "      <td>1.0</td>\n",
       "      <td>0.971429</td>\n",
       "      <td>0.965517</td>\n",
       "      <td>0.939683</td>\n",
       "      <td>0.916003</td>\n",
       "      <td>0.940735</td>\n",
       "    </tr>\n",
       "    <tr>\n",
       "      <th>support</th>\n",
       "      <td>48.000000</td>\n",
       "      <td>7.000000</td>\n",
       "      <td>27.000000</td>\n",
       "      <td>29.000000</td>\n",
       "      <td>46.000000</td>\n",
       "      <td>26.000000</td>\n",
       "      <td>8.000000</td>\n",
       "      <td>5.000000</td>\n",
       "      <td>5.0</td>\n",
       "      <td>70.000000</td>\n",
       "      <td>44.000000</td>\n",
       "      <td>0.939683</td>\n",
       "      <td>315.000000</td>\n",
       "      <td>315.000000</td>\n",
       "    </tr>\n",
       "  </tbody>\n",
       "</table>\n",
       "</div>"
      ],
      "text/plain": [
       "                asia   baltics  c.w. of ind. states  eastern europe  \\\n",
       "precision   0.957447  0.700000             0.896552        0.866667   \n",
       "recall      0.937500  1.000000             0.962963        0.896552   \n",
       "f1-score    0.947368  0.823529             0.928571        0.881356   \n",
       "support    48.000000  7.000000            27.000000       29.000000   \n",
       "\n",
       "           latin amer. and carib  near east  northern africa  \\\n",
       "precision               1.000000   1.000000         0.700000   \n",
       "recall                  0.956522   0.807692         0.875000   \n",
       "f1-score                0.977778   0.893617         0.777778   \n",
       "support                46.000000  26.000000         8.000000   \n",
       "\n",
       "           northern america  oceania  sub-saharan africa  western europe  \\\n",
       "precision          0.833333      1.0            0.971429        0.976744   \n",
       "recall             1.000000      1.0            0.971429        0.954545   \n",
       "f1-score           0.909091      1.0            0.971429        0.965517   \n",
       "support            5.000000      5.0           70.000000       44.000000   \n",
       "\n",
       "           accuracy   macro avg  weighted avg  \n",
       "precision  0.939683    0.900197      0.945845  \n",
       "recall     0.939683    0.942018      0.939683  \n",
       "f1-score   0.939683    0.916003      0.940735  \n",
       "support    0.939683  315.000000    315.000000  "
      ]
     },
     "execution_count": 74,
     "metadata": {},
     "output_type": "execute_result"
    }
   ],
   "source": [
    "y_pred = rf_model.predict(X_val)\n",
    "pd.DataFrame(metrics.classification_report(y_val, y_pred, output_dict=True, target_names=list(region_names.values())))"
   ]
  },
  {
   "cell_type": "code",
   "execution_count": 77,
   "metadata": {},
   "outputs": [
    {
     "data": {
      "text/plain": [
       "0.9301587301587302"
      ]
     },
     "execution_count": 77,
     "metadata": {},
     "output_type": "execute_result"
    }
   ],
   "source": [
    "rf_model = RandomForestClassifier(random_state=42).fit(X, y)\n",
    "rf_model.score(X_val, y_val)"
   ]
  },
  {
   "cell_type": "code",
   "execution_count": 76,
   "metadata": {},
   "outputs": [
    {
     "data": {
      "text/plain": [
       "0.9791907514450867"
      ]
     },
     "execution_count": 76,
     "metadata": {},
     "output_type": "execute_result"
    }
   ],
   "source": [
    "rf_model.score(x_test, y_test)"
   ]
  }
 ],
 "metadata": {
  "kernelspec": {
   "display_name": "Python 3.10.0 64-bit",
   "language": "python",
   "name": "python3"
  },
  "language_info": {
   "codemirror_mode": {
    "name": "ipython",
    "version": 3
   },
   "file_extension": ".py",
   "mimetype": "text/x-python",
   "name": "python",
   "nbconvert_exporter": "python",
   "pygments_lexer": "ipython3",
   "version": "3.10.0"
  },
  "orig_nbformat": 4,
  "vscode": {
   "interpreter": {
    "hash": "6e607abaa517475297adc4c5ce0e20c958febf53b6bace5f653445ec5f32eea0"
   }
  }
 },
 "nbformat": 4,
 "nbformat_minor": 2
}
