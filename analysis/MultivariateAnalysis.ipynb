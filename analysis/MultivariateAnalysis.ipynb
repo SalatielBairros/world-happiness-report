{
 "cells": [
  {
   "cell_type": "markdown",
   "metadata": {},
   "source": [
    "# Análise multivariada"
   ]
  },
  {
   "cell_type": "markdown",
   "metadata": {},
   "source": [
    "## Preparando o ambiente"
   ]
  },
  {
   "cell_type": "code",
   "execution_count": null,
   "metadata": {},
   "outputs": [],
   "source": [
    "import pandas as pd\n",
    "import seaborn as sns\n",
    "import matplotlib.pyplot as plt\n",
    "import numpy as np\n",
    "import plotly.express as px\n",
    "import json"
   ]
  },
  {
   "cell_type": "markdown",
   "metadata": {},
   "source": [
    "## Carregando os dados"
   ]
  },
  {
   "cell_type": "code",
   "execution_count": null,
   "metadata": {},
   "outputs": [],
   "source": [
    "dataset = pd.read_csv('../data/complete_dataset_region/complete_dataset_region.csv')\n",
    "dataset.head()"
   ]
  },
  {
   "cell_type": "markdown",
   "metadata": {},
   "source": [
    "## Matriz de correlação"
   ]
  },
  {
   "cell_type": "code",
   "execution_count": null,
   "metadata": {},
   "outputs": [],
   "source": [
    "dataset.corr()"
   ]
  },
  {
   "cell_type": "code",
   "execution_count": null,
   "metadata": {},
   "outputs": [],
   "source": [
    "sns.set(rc={'figure.figsize':(20,15)})\n",
    "sns.heatmap(dataset.corr(), annot=True, vmin=-1, vmax=1, center=0, mask=np.triu(dataset.corr()))\n",
    "plt.title('Matriz de correlação das métricas do WHR')\n",
    "\n",
    "plt.show()\n"
   ]
  },
  {
   "cell_type": "markdown",
   "metadata": {},
   "source": [
    "* As correlações faze sentido na realidade, expecialmente no score: `positive_affect` tem correlação positiva enquanto `negative_affect` tem correlação negativa.\n",
    "* GDP tem uma correlação grande com o score, a segunda maior correlação presente nos dados depois da expectativa de vida. Ambas correlações positivas dentro do esperado.\n",
    "* Não existe nenhuma correlação extremamente positiva ou negativa, o que evita com que variáveis sejam removidas por causa disso. \n",
    "* A variável com menor correlação total é o ano."
   ]
  },
  {
   "cell_type": "markdown",
   "metadata": {},
   "source": [
    "## Relação entre o score e o número de pesquisas realizadas pelo país"
   ]
  },
  {
   "cell_type": "code",
   "execution_count": null,
   "metadata": {},
   "outputs": [],
   "source": [
    "score_by_country_cout = dataset.groupby('country').describe()['score'][['count', 'mean']]\n",
    "\n",
    "sns.displot(data=score_by_country_cout, x=\"count\", y=\"mean\", height=8)\n",
    "plt.title('Média do score de um país pelo número de vezes que a pesquisa foi realizada')\n",
    "plt.show()\n"
   ]
  },
  {
   "cell_type": "markdown",
   "metadata": {},
   "source": [
    "Não parece apresentar qualquer relação entre esses dois elementos. Existe correlação?"
   ]
  },
  {
   "cell_type": "code",
   "execution_count": null,
   "metadata": {},
   "outputs": [],
   "source": [
    "score_by_country_cout.corr()"
   ]
  },
  {
   "cell_type": "markdown",
   "metadata": {},
   "source": [
    "A correlação entre o score e o número de vezes que aparece um país é baixa, praticamente irrelevante."
   ]
  },
  {
   "cell_type": "markdown",
   "metadata": {},
   "source": [
    "## Relação entre o score e o número de pesquisas realizadas por região\n",
    "\n",
    "Parte dessa observação ajuda a verificar bias nos dados de percepção de vida para regiões com mais países."
   ]
  },
  {
   "cell_type": "code",
   "execution_count": null,
   "metadata": {},
   "outputs": [],
   "source": [
    "score_by_region_cout = dataset.groupby('region').describe()['score'][['count', 'mean']]\n",
    "\n",
    "sns.displot(data=score_by_region_cout, x=\"count\", y=\"mean\", height=8)\n",
    "plt.title('Média do score de uma região do mundo pelo número de vezes que a pesquisa foi realizada em países dela')\n",
    "plt.show()\n"
   ]
  },
  {
   "cell_type": "code",
   "execution_count": null,
   "metadata": {},
   "outputs": [],
   "source": [
    "score_by_region_cout.corr()"
   ]
  },
  {
   "cell_type": "markdown",
   "metadata": {},
   "source": [
    "Aqui existe uma correlação negativa mais intensa, que pode indicar bias ou também que os países pesquisados mais vezes tendem a ter índices menores."
   ]
  },
  {
   "cell_type": "markdown",
   "metadata": {},
   "source": [
    "## Novos países acrescentados vs países ausentes em relação a pesquisa anterior"
   ]
  },
  {
   "cell_type": "code",
   "execution_count": null,
   "metadata": {},
   "outputs": [],
   "source": [
    "first_year = np.min(dataset['year'])\n",
    "last_year = np.max(dataset['year'])\n",
    "current_year = first_year + 1\n",
    "result = []\n",
    "\n",
    "while(current_year<=last_year):\n",
    "    countries_before = list(dataset[dataset['year']==current_year-1]['country'].unique())\n",
    "    countries_current = list(dataset[dataset['year']==current_year]['country'].unique())\n",
    "\n",
    "    n_added_countries = len(set(countries_current).difference(set(countries_before)))\n",
    "    n_absent_countries = len(set(countries_before).difference(set(countries_current)))\n",
    "\n",
    "    result.append({\n",
    "        'year': current_year,\n",
    "        'n_added_countries': n_added_countries,\n",
    "        'n_absent_countries': n_absent_countries\n",
    "    })\n",
    "\n",
    "    current_year += 1\n",
    "\n",
    "result = pd.DataFrame(result)\n",
    "result\n"
   ]
  },
  {
   "cell_type": "code",
   "execution_count": null,
   "metadata": {},
   "outputs": [],
   "source": [
    "sns.set(rc={'figure.figsize':(15,10)})\n",
    "sns.lineplot(data=result, x='year', y='n_added_countries')\n",
    "sns.lineplot(data=result, x='year', y='n_absent_countries')\n",
    "plt.title('Número de países adicionados e removidos em cada ano')\n",
    "plt.xlabel('Ano')\n",
    "plt.ylabel('Número de países')\n",
    "plt.show()"
   ]
  },
  {
   "cell_type": "markdown",
   "metadata": {},
   "source": [
    "Depois dos primeiros anos, a variação dos países é pequena, exceto pelo ano 2020."
   ]
  },
  {
   "cell_type": "markdown",
   "metadata": {},
   "source": [
    "## GDP ao longo do tempo"
   ]
  },
  {
   "cell_type": "code",
   "execution_count": null,
   "metadata": {},
   "outputs": [],
   "source": [
    "sns.lineplot(data=dataset[dataset['year']>2005], x='year', y='gdp')\n",
    "plt.title('GDP Mundial ao longo do tempo (2006-2021)')\n",
    "plt.xlabel('Ano')\n",
    "plt.ylabel('GDP')\n",
    "plt.show()"
   ]
  },
  {
   "cell_type": "markdown",
   "metadata": {},
   "source": [
    "Com poucas variações, o GDP mundial se manteve estável entre 2010 e 2019. Antes disso eram poucos países e o ano de 2020 também teve menos países na pesquisa."
   ]
  },
  {
   "cell_type": "markdown",
   "metadata": {},
   "source": [
    "**Um dos fatores com maior correlação com o score (o GDP) teve um impacto inverso pela número menor de países na pesquisa. Com isso, relações com a pandemia são complicadas de fazer.**"
   ]
  },
  {
   "cell_type": "code",
   "execution_count": null,
   "metadata": {},
   "outputs": [],
   "source": [
    "sns.lineplot(data=dataset[dataset['year']>2005], x='year', y='gdp', hue='region', ci=0, legend='brief')\n",
    "plt.title('GDP Mundial ao longo do tempo (2006-2021)')\n",
    "plt.xlabel('Ano')\n",
    "plt.ylabel('GDP')\n",
    "plt.show()"
   ]
  },
  {
   "cell_type": "markdown",
   "metadata": {},
   "source": [
    "Há uma leve tendência geral de crescimento para as regiões abaixo de 10.5. Por curiosidade como está o Brasil comparado à sua região e com o mundo?"
   ]
  },
  {
   "cell_type": "code",
   "execution_count": null,
   "metadata": {},
   "outputs": [],
   "source": [
    "brazil_gdp = dataset[dataset['country']=='brazil'][['year','gdp']]\n",
    "brazil_gdp['name'] = 'brazil'\n",
    "lat_america_gdp = dataset[dataset['region']=='latin amer. and carib'].query(\"country != 'brazil'\")[['year','gdp']]\n",
    "lat_america_gdp['name'] = 'latin america'\n",
    "brazil_vs_america_gdp = brazil_gdp.append(lat_america_gdp, ignore_index=True)\n"
   ]
  },
  {
   "cell_type": "code",
   "execution_count": null,
   "metadata": {},
   "outputs": [],
   "source": [
    "sns.lineplot(data=brazil_vs_america_gdp, x='year', y='gdp', hue='name')\n",
    "plt.title('GPD Brasil ao longo do tempo em comparação com América Latina')\n",
    "plt.show()"
   ]
  },
  {
   "cell_type": "markdown",
   "metadata": {},
   "source": [
    "## O papel do social support"
   ]
  },
  {
   "cell_type": "markdown",
   "metadata": {},
   "source": [
    "1. Relação entre social_support e score\n"
   ]
  },
  {
   "cell_type": "code",
   "execution_count": null,
   "metadata": {},
   "outputs": [],
   "source": [
    "df = pd.DataFrame(dataset, columns=['social_support', 'score'])\n",
    "\n",
    "sns.set(rc={\"figure.figsize\":(5, 9)})\n",
    "sns.heatmap(df.corr()[['social_support']].sort_values(by=['social_support'], ascending=False), annot=True, vmin=-1, vmax=1, center=0, mask=np.triu(df.corr()[['social_support']].sort_values(by=['social_support'], ascending=False)))\n",
    "\n",
    "plt.title('Matriz de correlação entre social_support e score')\n",
    "plt.show()"
   ]
  },
  {
   "cell_type": "markdown",
   "metadata": {},
   "source": [
    "Há uma tendência de correlação entre os dois atributos. Já que a segurança de ter alguém que irá apoiar em caso de necessidade possa vir ser um fator positivo."
   ]
  },
  {
   "cell_type": "markdown",
   "metadata": {},
   "source": [
    "2. Relação entre social_support e região do mundo"
   ]
  },
  {
   "cell_type": "code",
   "execution_count": null,
   "metadata": {},
   "outputs": [],
   "source": [
    "sns.set(rc={\"figure.figsize\":(15, 10)})\n",
    "sns.barplot(x=\"social_support\", y=\"region\", data=dataset, ci = None)\n",
    "plt.title('Região X Suporte ')\n",
    "plt.ylabel('Regiões')\n",
    "plt.xlabel('Suporte social')\n",
    "plt.show()\n",
    "\n"
   ]
  },
  {
   "cell_type": "markdown",
   "metadata": {},
   "source": [
    "Mais da metade das regiões acreditam que tem pessoas com que possam contar em caso de necessidade"
   ]
  },
  {
   "cell_type": "markdown",
   "metadata": {},
   "source": [
    "3. Social_support (total e por região) ao longo do tempo"
   ]
  },
  {
   "cell_type": "markdown",
   "metadata": {},
   "source": [
    "Mundial"
   ]
  },
  {
   "cell_type": "code",
   "execution_count": null,
   "metadata": {},
   "outputs": [],
   "source": [
    "sns.set(rc={\"figure.figsize\":(20, 10)})\n",
    "sns.lineplot(data=dataset[dataset['year']>2005], x='year', y='social_support')\n",
    "plt.title('Social support Mundial ao longo do tempo (2006-2021)')\n",
    "plt.xlabel('Ano')\n",
    "plt.ylabel('Social support')\n",
    "plt.show()"
   ]
  },
  {
   "cell_type": "markdown",
   "metadata": {},
   "source": [
    "Há pouca ocilação ao longo do ano, tendo rompido a minima apenas em 2008 (possivelmente pela crise de 2008) e 2015."
   ]
  },
  {
   "cell_type": "markdown",
   "metadata": {},
   "source": [
    "Por região"
   ]
  },
  {
   "cell_type": "code",
   "execution_count": null,
   "metadata": {},
   "outputs": [],
   "source": [
    "sns.set(rc={\"figure.figsize\":(20, 10)})\n",
    "sns.lineplot(data=dataset[dataset['year']>2005], x='year', y='social_support', hue='region', ci=0, legend='brief')\n",
    "plt.title('Social support Mundial ao longo do tempo (2006-2021)')\n",
    "plt.xlabel('Ano')\n",
    "plt.ylabel('Social support')\n",
    "plt.show()"
   ]
  },
  {
   "cell_type": "markdown",
   "metadata": {},
   "source": [
    "## HLE (healthy life expectancy)"
   ]
  },
  {
   "cell_type": "markdown",
   "metadata": {},
   "source": [
    "* Relação entre hle e score"
   ]
  },
  {
   "cell_type": "code",
   "execution_count": null,
   "metadata": {},
   "outputs": [],
   "source": [
    "df = pd.DataFrame(dataset, columns=['hle', 'score'])\n",
    "\n",
    "sns.set(rc={\"figure.figsize\":(5, 9)})\n",
    "sns.heatmap(df.corr()[['hle']].sort_values(by=['hle'], ascending=False), annot=True, vmin=-1, vmax=1, center=0, mask=np.triu(df.corr()[['hle']].sort_values(by=['hle'], ascending=False)))\n",
    "\n",
    "plt.title('Matriz de correlação entre hle e score')\n",
    "plt.show()"
   ]
  },
  {
   "cell_type": "markdown",
   "metadata": {},
   "source": [
    "Parece apresentar uma relação positiva entre esses dois elementos indicando a possibilidade de uma expectativa maior de vida aumentar o score"
   ]
  },
  {
   "cell_type": "markdown",
   "metadata": {},
   "source": [
    "* Relação entre hle e região do mundo\n"
   ]
  },
  {
   "cell_type": "code",
   "execution_count": null,
   "metadata": {},
   "outputs": [],
   "source": [
    "sns.set(rc={\"figure.figsize\":(20, 10)})\n",
    "sns.barplot(x=\"hle\", y=\"region\", data=dataset.sort_values(by=['hle'], ascending=True), ci = None)\n",
    "plt.title('HLE X Suporte ')\n",
    "plt.ylabel('Regiões')\n",
    "plt.xlabel('HLE')\n",
    "plt.show()\n"
   ]
  },
  {
   "cell_type": "markdown",
   "metadata": {},
   "source": [
    "Regiões com mais poder aquisitivo parece ter uma vantagem perante os mais sub-desenvolvidos."
   ]
  },
  {
   "cell_type": "markdown",
   "metadata": {},
   "source": [
    "* hle (total e por região) ao longo do tempo"
   ]
  },
  {
   "cell_type": "code",
   "execution_count": null,
   "metadata": {},
   "outputs": [],
   "source": [
    "sns.set(rc={\"figure.figsize\":(20, 10)})\n",
    "sns.lineplot(data=dataset[dataset['year']>2005], x='year', y='hle')\n",
    "\n",
    "plt.title('Healty life expectancy Mundial ao longo do tempo (2006-2021)')\n",
    "plt.xlabel('Ano')\n",
    "plt.ylabel('Healty life expectancy')\n",
    "plt.show()"
   ]
  },
  {
   "cell_type": "markdown",
   "metadata": {},
   "source": [
    "A linha de tendência de alta pode ser representada pelo avanço na medicina, acesso a medicações e exercicios regulares virem a se tornar populares nas classes mais baixas"
   ]
  },
  {
   "cell_type": "markdown",
   "metadata": {},
   "source": [
    "## FREEDOM"
   ]
  },
  {
   "cell_type": "markdown",
   "metadata": {},
   "source": [
    "* Relação entre freedom e score"
   ]
  },
  {
   "cell_type": "code",
   "execution_count": null,
   "metadata": {},
   "outputs": [],
   "source": [
    "df = pd.DataFrame(dataset, columns=['freedom', 'score'])\n",
    "\n",
    "sns.set(rc={\"figure.figsize\":(5, 9)})\n",
    "sns.heatmap(df.corr()[['freedom']].sort_values(by=['freedom'], ascending=False), annot=True, vmin=-1, vmax=1, center=0, mask=np.triu(df.corr()[['freedom']].sort_values(by=['freedom'], ascending=False)))\n",
    "\n",
    "plt.title('Matriz de correlação entre freedom e score')\n",
    "plt.show()"
   ]
  },
  {
   "cell_type": "markdown",
   "metadata": {},
   "source": [
    "\n",
    "Liberdade tem um alto impacto no atributo positive_affect, o que pode fazer com que o score baixe"
   ]
  },
  {
   "cell_type": "markdown",
   "metadata": {},
   "source": [
    "* Relação entre freedom e região do mundo"
   ]
  },
  {
   "cell_type": "code",
   "execution_count": null,
   "metadata": {},
   "outputs": [],
   "source": [
    "sns.set(rc={\"figure.figsize\":(20, 10)})\n",
    "sns.barplot(x=\"freedom\", y=\"region\", data=dataset, ci = None)\n",
    "plt.title('Regiões X Liberdade ')\n",
    "plt.ylabel('Regiões')\n",
    "plt.xlabel('Nível de liberdade')\n",
    "plt.show()\n"
   ]
  },
  {
   "cell_type": "markdown",
   "metadata": {},
   "source": [
    "O nivel de liberdade independentemente da região, tem um valor satisfatório, sendo apenas regiões consideradas \"mais democraticas\" rompendo a pontuação de 0.8"
   ]
  },
  {
   "cell_type": "markdown",
   "metadata": {},
   "source": [
    "* freedom (total e por região) ao longo do tempo"
   ]
  },
  {
   "cell_type": "code",
   "execution_count": null,
   "metadata": {},
   "outputs": [],
   "source": [
    "sns.set(rc={\"figure.figsize\":(20, 10)})\n",
    "sns.lineplot(data=dataset[dataset['year']>2005], x='year', y='freedom')\n",
    "\n",
    "plt.title('Liberdade ao longo do tempo (2006-2021)')\n",
    "plt.xlabel('Ano')\n",
    "plt.ylabel('Nível de liberdade')\n",
    "plt.show()"
   ]
  },
  {
   "cell_type": "markdown",
   "metadata": {},
   "source": [
    "Parece que a a pontuação de liberdade cai quando há crises econômicas como em 2008 e 2012. Além de 2021 com a pandemia"
   ]
  },
  {
   "cell_type": "markdown",
   "metadata": {},
   "source": [
    "## Generosity"
   ]
  },
  {
   "cell_type": "markdown",
   "metadata": {},
   "source": [
    "* Relação entre generosity e score"
   ]
  },
  {
   "cell_type": "code",
   "execution_count": null,
   "metadata": {},
   "outputs": [],
   "source": [
    "df = pd.DataFrame(dataset, columns=['generosity', 'score'])\n",
    "\n",
    "sns.set(rc={\"figure.figsize\":(5, 9)})\n",
    "\n",
    "sns.heatmap(\n",
    "  df.corr()[['generosity']].sort_values(\n",
    "    by=['generosity'],\n",
    "    ascending=False\n",
    "  ),\n",
    "  annot=True,\n",
    "  vmin=-1,\n",
    "  vmax=1,\n",
    "  center=0,\n",
    "  mask=np.triu(df.corr()[['generosity']].sort_values(\n",
    "    by=['generosity'],\n",
    "    ascending=False\n",
    "    )\n",
    "  )\n",
    ")\n",
    "\n",
    "plt.title('Matriz de correlação entre generosidade e score')\n",
    "plt.show()"
   ]
  },
  {
   "cell_type": "markdown",
   "metadata": {},
   "source": [
    "Aparentemente não há relação entre os atributos de `generosoty` e `score`"
   ]
  },
  {
   "cell_type": "markdown",
   "metadata": {},
   "source": [
    "* Relação entre generosity e região do mundo"
   ]
  },
  {
   "cell_type": "code",
   "execution_count": null,
   "metadata": {},
   "outputs": [],
   "source": [
    "sns.set(rc={\"figure.figsize\":(20, 10)})\n",
    "\n",
    "sns.barplot(x=\"generosity\", y=\"region\", data=dataset, ci = None)\n",
    "\n",
    "plt.title('Regiões X Generosidade ')\n",
    "\n",
    "plt.ylabel('Regiões')\n",
    "plt.xlabel('Generosidade')\n",
    "\n",
    "plt.show()"
   ]
  },
  {
   "cell_type": "markdown",
   "metadata": {},
   "source": [
    "Em termos de generosidade menos da metade tem o costume de doar a instituições de caridade"
   ]
  },
  {
   "cell_type": "markdown",
   "metadata": {},
   "source": [
    "* generosity (total e por região) ao longo do tempo"
   ]
  },
  {
   "cell_type": "code",
   "execution_count": null,
   "metadata": {},
   "outputs": [],
   "source": [
    "sns.set(rc={\"figure.figsize\":(20, 10)})\n",
    "\n",
    "sns.lineplot(data=dataset[dataset['year']>2005], x='year', y='generosity')\n",
    "\n",
    "plt.title('Generosidade ao longo do tempo (2006-2021)')\n",
    "\n",
    "plt.xlabel('Ano')\n",
    "plt.ylabel('Generosidade')\n",
    "\n",
    "plt.show()"
   ]
  },
  {
   "cell_type": "markdown",
   "metadata": {},
   "source": [
    "Sendo um atributo que nunca teve altos indices, mesmo com o ano de 2015 batendo na linha de tendencia de alta o indice praticamente baixou ao longo dos anos"
   ]
  },
  {
   "cell_type": "markdown",
   "metadata": {},
   "source": [
    "## Corruption"
   ]
  },
  {
   "cell_type": "markdown",
   "metadata": {},
   "source": [
    "* Relação entre corruption e score"
   ]
  },
  {
   "cell_type": "code",
   "execution_count": null,
   "metadata": {},
   "outputs": [],
   "source": [
    "df = pd.DataFrame(dataset, columns=['corruption', 'score'])\n",
    "\n",
    "sns.set(rc={\"figure.figsize\":(5, 9)})\n",
    "\n",
    "sns.heatmap(\n",
    "  df.corr()[['corruption']].sort_values(\n",
    "    by=['corruption'],\n",
    "    ascending=False\n",
    "  ),\n",
    "  annot=True,\n",
    "  vmin=-1,\n",
    "  vmax=1,\n",
    "  center=0,\n",
    "  mask=np.triu(df.corr()[['corruption']].sort_values(\n",
    "    by=['corruption'],\n",
    "    ascending=False\n",
    "    )\n",
    "  )\n",
    ")\n",
    "\n",
    "plt.title('Matriz de correlação entre generosidade e score')\n",
    "plt.show()"
   ]
  },
  {
   "cell_type": "markdown",
   "metadata": {},
   "source": [
    "Aparentemente não há relação entre os atributos de `corruption` e `score`"
   ]
  },
  {
   "cell_type": "markdown",
   "metadata": {},
   "source": [
    "* Relação entre corruption e região do mundo"
   ]
  },
  {
   "cell_type": "code",
   "execution_count": null,
   "metadata": {},
   "outputs": [],
   "source": [
    "sns.set(rc={\"figure.figsize\":(20, 10)})\n",
    "\n",
    "sns.barplot(\n",
    "  x=\"corruption\",\n",
    "  y=\"region\",\n",
    "  data=dataset,\n",
    "  ci = None,\n",
    "  # TODO: order\n",
    ")\n",
    "\n",
    "plt.title('Regiões X Corrupção ')\n",
    "\n",
    "plt.ylabel('Regiões')\n",
    "plt.xlabel('Corrupção')\n",
    "\n",
    "plt.show()"
   ]
  },
  {
   "cell_type": "markdown",
   "metadata": {},
   "source": [
    "Indices altos em praticamente todas as regiões, tendo apenas a oceania abaixo de 0.5, talvez pela quantidade de países o indice seja prejudicado diante dos demais"
   ]
  },
  {
   "cell_type": "markdown",
   "metadata": {},
   "source": [
    "* corruption (total e por região) ao longo do tempo"
   ]
  },
  {
   "cell_type": "code",
   "execution_count": null,
   "metadata": {},
   "outputs": [],
   "source": [
    "sns.set(rc={\"figure.figsize\":(20, 10)})\n",
    "\n",
    "sns.lineplot(data=dataset[dataset['year']>2005], x='year', y='corruption')\n",
    "\n",
    "plt.title('Corrupção ao longo do tempo (2006-2021)')\n",
    "\n",
    "plt.xlabel('Ano')\n",
    "plt.ylabel('Corrupção')\n",
    "\n",
    "plt.show()"
   ]
  },
  {
   "cell_type": "markdown",
   "metadata": {},
   "source": [
    "Não faz sentindo esse atributo cair com o passar do tempo, uma explicação seria um desentendimento da população perante aos seus governantes"
   ]
  },
  {
   "cell_type": "markdown",
   "metadata": {},
   "source": [
    "## Positive affect"
   ]
  },
  {
   "cell_type": "markdown",
   "metadata": {},
   "source": [
    "* Relação entre positive_affect e score"
   ]
  },
  {
   "cell_type": "code",
   "execution_count": null,
   "metadata": {},
   "outputs": [],
   "source": [
    "df = pd.DataFrame(dataset, columns=['positive_affect', 'score'])\n",
    "\n",
    "sns.set(rc={\"figure.figsize\":(5, 9)})\n",
    "\n",
    "sns.heatmap(\n",
    "  df.corr()[['positive_affect']].sort_values(\n",
    "    by=['positive_affect'],\n",
    "    ascending=False\n",
    "  ),\n",
    "  annot=True,\n",
    "  vmin=-1,\n",
    "  vmax=1,\n",
    "  center=0,\n",
    "  mask=np.triu(df.corr()[['positive_affect']].sort_values(\n",
    "    by=['positive_affect'],\n",
    "    ascending=False\n",
    "    )\n",
    "  )\n",
    ")\n",
    "\n",
    "plt.title('Matriz de correlação entre afeto positivo e score')\n",
    "plt.show()"
   ]
  },
  {
   "cell_type": "markdown",
   "metadata": {},
   "source": [
    "A correlação entre esse dois atributos é positiva mas fraca"
   ]
  },
  {
   "cell_type": "markdown",
   "metadata": {},
   "source": [
    "* Relação entre positive_affect e região do mundo"
   ]
  },
  {
   "cell_type": "code",
   "execution_count": null,
   "metadata": {},
   "outputs": [],
   "source": [
    "sns.set(rc={\"figure.figsize\":(20, 10)})\n",
    "region_affect = pd.DataFrame(dataset.groupby('region').describe()['positive_affect']['mean']).reset_index().sort_values(by='mean', ascending=False)\n",
    "sns.barplot(data=region_affect, x='region', y='mean')\n",
    "plt.show()"
   ]
  },
  {
   "cell_type": "code",
   "execution_count": null,
   "metadata": {},
   "outputs": [],
   "source": [
    "sorted_values = dataset.sort_values('positive_affect')['positive_affect']"
   ]
  },
  {
   "cell_type": "code",
   "execution_count": null,
   "metadata": {},
   "outputs": [],
   "source": [
    "sns.set(rc={\"figure.figsize\":(20, 10)})\n",
    "#region_affect = pd.DataFrame(dataset.groupby('region').describe()['positive_affect']['mean']).reset_index()\n",
    "sns.barplot(data=dataset, x='region', y='positive_affect')\n",
    "plt.show()"
   ]
  },
  {
   "cell_type": "markdown",
   "metadata": {},
   "source": [
    "* positive_affect (total e por região) ao longo do tempo"
   ]
  },
  {
   "cell_type": "code",
   "execution_count": null,
   "metadata": {},
   "outputs": [],
   "source": [
    "sns.set(rc={\"figure.figsize\":(20, 10)})\n",
    "\n",
    "sns.barplot(\n",
    "  x=\"positive_affect\",\n",
    "  y=\"region\",\n",
    "  data=dataset,\n",
    "  ci = None,\n",
    ")\n",
    "\n",
    "plt.title('Regiões X Afeto positivo')\n",
    "\n",
    "plt.ylabel('Regiões')\n",
    "plt.xlabel('Afeto positivo')\n",
    "\n",
    "plt.show()"
   ]
  },
  {
   "cell_type": "markdown",
   "metadata": {},
   "source": [
    "Em sua grande maioria é positivo o indicador, nenhum sendo abaixo dos 0.5"
   ]
  },
  {
   "cell_type": "code",
   "execution_count": null,
   "metadata": {},
   "outputs": [],
   "source": [
    "sns.set(rc={\"figure.figsize\":(20, 10)})\n",
    "\n",
    "sns.lineplot(data=dataset[dataset['year']>2005], x='year', y='positive_affect')\n",
    "\n",
    "plt.title('Afeto positivo ao longo do tempo (2006-2021)')\n",
    "\n",
    "plt.xlabel('Ano')\n",
    "plt.ylabel('Afeto')\n",
    "\n",
    "plt.show()"
   ]
  },
  {
   "cell_type": "markdown",
   "metadata": {},
   "source": [
    "Pode se dizer que apesar das pequenas flutuações, o indice se manteve ao longo do tempo"
   ]
  },
  {
   "cell_type": "markdown",
   "metadata": {},
   "source": [
    "* verificar score dos países com positive_affect = 0"
   ]
  },
  {
   "cell_type": "code",
   "execution_count": null,
   "metadata": {},
   "outputs": [],
   "source": [
    "there_are_zero_values = dataset.query('positive_affect == 0')\n",
    "there_are_zero_values"
   ]
  },
  {
   "cell_type": "markdown",
   "metadata": {},
   "source": [
    "Não a países com o atributo 0"
   ]
  },
  {
   "cell_type": "markdown",
   "metadata": {},
   "source": [
    "## Negative affect"
   ]
  },
  {
   "cell_type": "markdown",
   "metadata": {},
   "source": [
    "* Relação entre negative_affect e score"
   ]
  },
  {
   "cell_type": "code",
   "execution_count": null,
   "metadata": {},
   "outputs": [],
   "source": [
    "df = pd.DataFrame(dataset, columns=['negative_affect', 'score'])\n",
    "\n",
    "sns.set(rc={\"figure.figsize\":(5, 9)})\n",
    "\n",
    "sns.heatmap(\n",
    "  df.corr()[['negative_affect']].sort_values(\n",
    "    by=['negative_affect'],\n",
    "    ascending=False\n",
    "  ),\n",
    "  annot=True,\n",
    "  vmin=-1,\n",
    "  vmax=1,\n",
    "  center=0,\n",
    "  mask=np.triu(df.corr()[['negative_affect']].sort_values(\n",
    "    by=['negative_affect'],\n",
    "    ascending=False\n",
    "    )\n",
    "  )\n",
    ")\n",
    "\n",
    "plt.title('Matriz de correlação entre afeto positivo e score')\n",
    "plt.show()"
   ]
  },
  {
   "cell_type": "markdown",
   "metadata": {},
   "source": [
    "Aparentemente não há relação entre os dois atributos"
   ]
  },
  {
   "cell_type": "markdown",
   "metadata": {},
   "source": [
    "* Relação entre negative_affect e região do mundo"
   ]
  },
  {
   "cell_type": "markdown",
   "metadata": {},
   "source": [
    "* negative_affect (total e por região) ao longo do tempo"
   ]
  },
  {
   "cell_type": "code",
   "execution_count": null,
   "metadata": {},
   "outputs": [],
   "source": [
    "sns.set(rc={\"figure.figsize\":(20, 10)})\n",
    "\n",
    "sns.barplot(\n",
    "  x=\"negative_affect\",\n",
    "  y=\"region\",\n",
    "  data=dataset.sort_values(by=['negative_affect'], ascending=[False]),\n",
    "  ci = None\n",
    ")\n",
    "\n",
    "plt.title('Regiões X Afeto negativo')\n",
    "\n",
    "plt.ylabel('Regiões')\n",
    "plt.xlabel('Afeto negativo')\n",
    "\n",
    "plt.show()"
   ]
  },
  {
   "cell_type": "markdown",
   "metadata": {},
   "source": [
    "Em contra proposta de afeto positivo, o afeto negativo tem indices baixos. O que é bem relevante."
   ]
  },
  {
   "cell_type": "code",
   "execution_count": null,
   "metadata": {},
   "outputs": [],
   "source": [
    "sns.set(rc={\"figure.figsize\":(20, 10)})\n",
    "\n",
    "sns.lineplot(data=dataset[dataset['year']>2005], x='year', y='negative_affect')\n",
    "\n",
    "plt.title('Afeto negativo ao longo do tempo (2006-2021)')\n",
    "\n",
    "plt.xlabel('Ano')\n",
    "plt.ylabel('Afeto')\n",
    "\n",
    "plt.show()"
   ]
  },
  {
   "cell_type": "markdown",
   "metadata": {},
   "source": [
    "Mostra uma linha de tendencia de alta constante, podendo ser um indice preocupante"
   ]
  },
  {
   "cell_type": "markdown",
   "metadata": {},
   "source": [
    "* verificar score dos países com negative_affect = 0 e analisar se são os mesmos com positive_affect = 0"
   ]
  },
  {
   "cell_type": "code",
   "execution_count": null,
   "metadata": {},
   "outputs": [],
   "source": [
    "there_are_zero_values = dataset['negative_affect'].min()\n",
    "there_are_zero_values"
   ]
  },
  {
   "cell_type": "markdown",
   "metadata": {},
   "source": [
    "Não há atributo com o valor 0"
   ]
  },
  {
   "cell_type": "markdown",
   "metadata": {},
   "source": [
    "## Year"
   ]
  },
  {
   "cell_type": "markdown",
   "metadata": {},
   "source": [
    "* quais países estão presentes em 2005. Eles estão presentes em pesquisas posteriores? Caso não talvez devam ser descartados\n"
   ]
  },
  {
   "cell_type": "code",
   "execution_count": null,
   "metadata": {},
   "outputs": [],
   "source": [
    "present_in_2005 = dataset.query('year == 2005')\n",
    "\n",
    "qtd_country_in_2005 = len(present_in_2005)\n",
    "\n",
    "present_in_2005"
   ]
  },
  {
   "cell_type": "markdown",
   "metadata": {},
   "source": [
    "Sim, são países presentes em pesquisas posteriores."
   ]
  },
  {
   "cell_type": "markdown",
   "metadata": {},
   "source": [
    "* Quantos países novos entram e quantos são ignorados nas pesquisas do ano seguinte?"
   ]
  },
  {
   "cell_type": "code",
   "execution_count": null,
   "metadata": {},
   "outputs": [],
   "source": [
    "present_in_2006 = dataset.query('year == 2006')\n",
    "qtd_country_in_2006 = len(present_in_2006)\n",
    "\n",
    "present_in_2006"
   ]
  },
  {
   "cell_type": "markdown",
   "metadata": {},
   "source": [
    "Quantidade de novos países nas pesquisas"
   ]
  },
  {
   "cell_type": "code",
   "execution_count": null,
   "metadata": {},
   "outputs": [],
   "source": [
    "country_count_in_2005 = \"{count} presentes em 2005\".format(count = qtd_country_in_2005)\n",
    "country_count_in_2006 = \"{count} em 2006\".format(count = qtd_country_in_2006)\n",
    "new_country_count = \"{count} novos países.\".format(count = qtd_country_in_2006 - qtd_country_in_2005)\n",
    "\n",
    "result = new_country_count + ' Sendo ' + country_count_in_2005 + ' e ' + country_count_in_2006\n",
    "\n",
    "result"
   ]
  },
  {
   "cell_type": "markdown",
   "metadata": {},
   "source": [
    "Países de 2005 encontrados no ano de 2006"
   ]
  },
  {
   "cell_type": "code",
   "execution_count": null,
   "metadata": {},
   "outputs": [],
   "source": [
    "mergedCountries = pd.merge(present_in_2006, present_in_2005, on=['country'], how='inner')\n",
    "mergedCountries"
   ]
  },
  {
   "cell_type": "markdown",
   "metadata": {},
   "source": [
    "* Presença das regiões nas pesquisas ao longo do ano?"
   ]
  },
  {
   "cell_type": "code",
   "execution_count": null,
   "metadata": {},
   "outputs": [],
   "source": [
    "sns.relplot(\n",
    "  data=dataset,\n",
    "  x=\"year\",\n",
    "  y=\"region\",\n",
    "  height=10,\n",
    "  aspect=2,\n",
    "  hue=\"year\",\n",
    "  palette=sns.diverging_palette(250, 30, l=65, center=\"dark\", as_cmap=True)\n",
    ")\n",
    "\n",
    "plt.title('Participações ao longo do tempo')\n",
    "\n",
    "plt.ylabel('Regiões representantes')\n",
    "plt.xlabel('Ano de participação')\n",
    "\n",
    "plt.show()"
   ]
  },
  {
   "cell_type": "markdown",
   "metadata": {},
   "source": [
    "Aparentemente houveram regiões não participantes apenas no início das pesquisas"
   ]
  },
  {
   "cell_type": "markdown",
   "metadata": {},
   "source": [
    "* Como é a representação das regiões do mundo ao longo do tempo?"
   ]
  },
  {
   "cell_type": "code",
   "execution_count": null,
   "metadata": {},
   "outputs": [],
   "source": [
    "\n",
    "x = dataset['year']\n",
    "y = dataset['region']\n",
    "z = dataset.groupby('country').describe()['score'][['count']]['count']\n",
    "\n",
    "plt.scatter(x, y, s=z*50, alpha=0.5)\n",
    "\n",
    "plt.title('Densidade de países participantes ao longo do tempo')\n",
    "\n",
    "plt.ylabel('Regiões representantes')\n",
    "plt.xlabel('Ano de participação')\n",
    "\n",
    "plt.show()\n"
   ]
  },
  {
   "cell_type": "markdown",
   "metadata": {},
   "source": [
    "* Qual o score médio ao longo do tempo?"
   ]
  },
  {
   "cell_type": "code",
   "execution_count": null,
   "metadata": {},
   "outputs": [],
   "source": [
    "sns.set(rc={\"figure.figsize\":(20, 10)})\n",
    "\n",
    "sns.lineplot(data=dataset[dataset['year']>2005], x='year', y='score')\n",
    "\n",
    "plt.title('Score ao longo do tempo (2006-2021)')\n",
    "\n",
    "plt.xlabel('Ano')\n",
    "plt.ylabel('Score')\n",
    "\n",
    "plt.show()\n"
   ]
  },
  {
   "cell_type": "markdown",
   "metadata": {},
   "source": [
    "O score se manteve na mesma escala por um bom tempo, e o que provavelmente baixou novamente foi a pandemia"
   ]
  },
  {
   "cell_type": "markdown",
   "metadata": {},
   "source": []
  }
 ],
 "metadata": {
  "interpreter": {
   "hash": "916dbcbb3f70747c44a77c7bcd40155683ae19c65e1c03b4aa3499c5328201f1"
  },
  "kernelspec": {
   "display_name": "Python 3.8.10 64-bit",
   "language": "python",
   "name": "python3"
  },
  "language_info": {
   "codemirror_mode": {
    "name": "ipython",
    "version": 3
   },
   "file_extension": ".py",
   "mimetype": "text/x-python",
   "name": "python",
   "nbconvert_exporter": "python",
   "pygments_lexer": "ipython3",
   "version": "3.8.10"
  },
  "orig_nbformat": 4
 },
 "nbformat": 4,
 "nbformat_minor": 2
}
