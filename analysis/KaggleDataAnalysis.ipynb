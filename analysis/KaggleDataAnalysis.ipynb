{
 "cells": [
  {
   "cell_type": "markdown",
   "metadata": {},
   "source": [
    "# Kaggle Data Analysis\n",
    "\n",
    "In this notebook, we will perform an initial analysis of the data, as the first contact with it. The used data is from Kaggle [here](https://www.kaggle.com/unsdsn/world-happiness) corresponding the 2015 - 2019 research data interval. The 2012, 2014, 2020, 2021 reports are not included on Kaggle database and will be analyzed separately.\n",
    "\n",
    "**The Kaggle data cannot be used to modeling a ML model because it represents the impact of each variable on the score, what means that the sum of all attributes corresponds to the score. The present analysis is only to get any relevant insight about the data to future feature extraction.**"
   ]
  },
  {
   "cell_type": "markdown",
   "metadata": {},
   "source": [
    "## Preparing the environment\n",
    "\n",
    "Importing dependencies and configuring the environment to visualization, directories and so on."
   ]
  },
  {
   "cell_type": "code",
   "execution_count": 1,
   "metadata": {},
   "outputs": [],
   "source": [
    "import pandas as pd"
   ]
  },
  {
   "cell_type": "code",
   "execution_count": 10,
   "metadata": {},
   "outputs": [],
   "source": [
    "base_directory = '../data/kaggle'"
   ]
  },
  {
   "cell_type": "markdown",
   "metadata": {},
   "source": [
    "## Loading the data"
   ]
  },
  {
   "cell_type": "code",
   "execution_count": 12,
   "metadata": {},
   "outputs": [],
   "source": [
    "df_2015 = pd.read_csv(base_directory + '/2015.csv')\n",
    "df_2016 = pd.read_csv(base_directory + '/2016.csv')\n",
    "df_2017 = pd.read_csv(base_directory + '/2017.csv')\n",
    "df_2018 = pd.read_csv(base_directory + '/2018.csv')\n",
    "df_2019 = pd.read_csv(base_directory + '/2019.csv')"
   ]
  },
  {
   "cell_type": "markdown",
   "metadata": {},
   "source": [
    "## Analyzing data attributes over the years"
   ]
  },
  {
   "cell_type": "code",
   "execution_count": 17,
   "metadata": {},
   "outputs": [
    {
     "name": "stdout",
     "output_type": "stream",
     "text": [
      "2015: \n",
      " ['Country', 'Region', 'Happiness Rank', 'Happiness Score', 'Standard Error', 'Economy (GDP per Capita)', 'Family', 'Health (Life Expectancy)', 'Freedom', 'Trust (Government Corruption)', 'Generosity', 'Dystopia Residual']\n",
      "\n",
      "\n",
      "2016: \n",
      " ['Country', 'Region', 'Happiness Rank', 'Happiness Score', 'Lower Confidence Interval', 'Upper Confidence Interval', 'Economy (GDP per Capita)', 'Family', 'Health (Life Expectancy)', 'Freedom', 'Trust (Government Corruption)', 'Generosity', 'Dystopia Residual']\n",
      "\n",
      "\n",
      "2017: \n",
      " ['Country', 'Happiness.Rank', 'Happiness.Score', 'Whisker.high', 'Whisker.low', 'Economy..GDP.per.Capita.', 'Family', 'Health..Life.Expectancy.', 'Freedom', 'Generosity', 'Trust..Government.Corruption.', 'Dystopia.Residual']\n",
      "\n",
      "\n",
      "2018: \n",
      " ['Overall rank', 'Country or region', 'Score', 'GDP per capita', 'Social support', 'Healthy life expectancy', 'Freedom to make life choices', 'Generosity', 'Perceptions of corruption']\n",
      "\n",
      "\n",
      "2019: \n",
      " ['Overall rank', 'Country or region', 'Score', 'GDP per capita', 'Social support', 'Healthy life expectancy', 'Freedom to make life choices', 'Generosity', 'Perceptions of corruption']\n",
      "\n",
      "\n"
     ]
    }
   ],
   "source": [
    "print(f'2015: \\n {df_2015.columns.tolist()}\\n\\n')\n",
    "print(f'2016: \\n {df_2016.columns.tolist()}\\n\\n')\n",
    "print(f'2017: \\n {df_2017.columns.tolist()}\\n\\n')\n",
    "print(f'2018: \\n {df_2018.columns.tolist()}\\n\\n')\n",
    "print(f'2019: \\n {df_2019.columns.tolist()}\\n\\n')"
   ]
  },
  {
   "cell_type": "markdown",
   "metadata": {},
   "source": [
    "### Consistency and equivalent attributes from Kaggle Dataset over the years\n",
    "\n",
    "| # | 2015 | 2016 | 2017 | 2018 | 2019 |\n",
    "| - | ---- | ---- | ---- | ---- | ---- |\n",
    "| 1 | Country | Country | Country | Country or region | Country or region |\n",
    "| 2 | Region | Region | - | - | - |\n",
    "| 3 | Happiness Rank | Happiness Rank | Happiness.Rank | Overall rank | Overall rank |\n",
    "| 4 | Happiness Score | Happiness Score | Happiness.Score | Score | Score |\n",
    "| 5 | Standard Error | - | - | - | - |\n",
    "| 6 | - | Lower Confidence Interval | Whisker.low | - | - |\n",
    "| 7 | - | Upper Confidence Interval | Whisker.high | - | - |\n",
    "| 8 | Economy (GDP per Capita) | Economy (GDP per Capita) | Economy..GDP.per.Capita. | GDP per capita | GDP per capita |\n",
    "| 9 | Family | Family | Family | Social support | Social support |\n",
    "| 10 | Health (Life Expectancy) | Health (Life Expectancy) | Health..Life.Expectancy. | Healthy life expectancy | Healthy life expectancy |\n",
    "| 11 | Freedom | Freedom | Freedom | Freedom to make life choices | Freedom to make life choices |\n",
    "| 12 | Trust (Government Corruption) | Trust (Government Corruption) | Trust..Government.Corruption. | Perceptions of corruption | Perceptions of corruption |\n",
    "| 13 | Generosity | Generosity | Generosity | Generosity | Generosity |\n",
    "| 14 | Dystopia Residual | Dystopia Residual | Dystopia.Residual | - | - |"
   ]
  },
  {
   "cell_type": "markdown",
   "metadata": {},
   "source": [
    "### What is the difference between `Country` and `Country or region`?"
   ]
  },
  {
   "cell_type": "code",
   "execution_count": 18,
   "metadata": {},
   "outputs": [
    {
     "data": {
      "text/plain": [
       "array(['Norway', 'Denmark', 'Iceland', 'Switzerland', 'Finland',\n",
       "       'Netherlands', 'Canada', 'New Zealand', 'Sweden', 'Australia',\n",
       "       'Israel', 'Costa Rica', 'Austria', 'United States', 'Ireland',\n",
       "       'Germany', 'Belgium', 'Luxembourg', 'United Kingdom', 'Chile',\n",
       "       'United Arab Emirates', 'Brazil', 'Czech Republic', 'Argentina',\n",
       "       'Mexico', 'Singapore', 'Malta', 'Uruguay', 'Guatemala', 'Panama',\n",
       "       'France', 'Thailand', 'Taiwan Province of China', 'Spain', 'Qatar',\n",
       "       'Colombia', 'Saudi Arabia', 'Trinidad and Tobago', 'Kuwait',\n",
       "       'Slovakia', 'Bahrain', 'Malaysia', 'Nicaragua', 'Ecuador',\n",
       "       'El Salvador', 'Poland', 'Uzbekistan', 'Italy', 'Russia', 'Belize',\n",
       "       'Japan', 'Lithuania', 'Algeria', 'Latvia', 'South Korea',\n",
       "       'Moldova', 'Romania', 'Bolivia', 'Turkmenistan', 'Kazakhstan',\n",
       "       'North Cyprus', 'Slovenia', 'Peru', 'Mauritius', 'Cyprus',\n",
       "       'Estonia', 'Belarus', 'Libya', 'Turkey', 'Paraguay',\n",
       "       'Hong Kong S.A.R., China', 'Philippines', 'Serbia', 'Jordan',\n",
       "       'Hungary', 'Jamaica', 'Croatia', 'Kosovo', 'China', 'Pakistan',\n",
       "       'Indonesia', 'Venezuela', 'Montenegro', 'Morocco', 'Azerbaijan',\n",
       "       'Dominican Republic', 'Greece', 'Lebanon', 'Portugal',\n",
       "       'Bosnia and Herzegovina', 'Honduras', 'Macedonia', 'Somalia',\n",
       "       'Vietnam', 'Nigeria', 'Tajikistan', 'Bhutan', 'Kyrgyzstan',\n",
       "       'Nepal', 'Mongolia', 'South Africa', 'Tunisia',\n",
       "       'Palestinian Territories', 'Egypt', 'Bulgaria', 'Sierra Leone',\n",
       "       'Cameroon', 'Iran', 'Albania', 'Bangladesh', 'Namibia', 'Kenya',\n",
       "       'Mozambique', 'Myanmar', 'Senegal', 'Zambia', 'Iraq', 'Gabon',\n",
       "       'Ethiopia', 'Sri Lanka', 'Armenia', 'India', 'Mauritania',\n",
       "       'Congo (Brazzaville)', 'Georgia', 'Congo (Kinshasa)', 'Mali',\n",
       "       'Ivory Coast', 'Cambodia', 'Sudan', 'Ghana', 'Ukraine', 'Uganda',\n",
       "       'Burkina Faso', 'Niger', 'Malawi', 'Chad', 'Zimbabwe', 'Lesotho',\n",
       "       'Angola', 'Afghanistan', 'Botswana', 'Benin', 'Madagascar',\n",
       "       'Haiti', 'Yemen', 'South Sudan', 'Liberia', 'Guinea', 'Togo',\n",
       "       'Rwanda', 'Syria', 'Tanzania', 'Burundi',\n",
       "       'Central African Republic'], dtype=object)"
      ]
     },
     "execution_count": 18,
     "metadata": {},
     "output_type": "execute_result"
    }
   ],
   "source": [
    "df_2017['Country'].unique()"
   ]
  },
  {
   "cell_type": "code",
   "execution_count": 23,
   "metadata": {},
   "outputs": [
    {
     "data": {
      "text/plain": [
       "array(['Finland', 'Norway', 'Denmark', 'Iceland', 'Switzerland',\n",
       "       'Netherlands', 'Canada', 'New Zealand', 'Sweden', 'Australia',\n",
       "       'United Kingdom', 'Austria', 'Costa Rica', 'Ireland', 'Germany',\n",
       "       'Belgium', 'Luxembourg', 'United States', 'Israel',\n",
       "       'United Arab Emirates', 'Czech Republic', 'Malta', 'France',\n",
       "       'Mexico', 'Chile', 'Taiwan', 'Panama', 'Brazil', 'Argentina',\n",
       "       'Guatemala', 'Uruguay', 'Qatar', 'Saudi Arabia', 'Singapore',\n",
       "       'Malaysia', 'Spain', 'Colombia', 'Trinidad & Tobago', 'Slovakia',\n",
       "       'El Salvador', 'Nicaragua', 'Poland', 'Bahrain', 'Uzbekistan',\n",
       "       'Kuwait', 'Thailand', 'Italy', 'Ecuador', 'Belize', 'Lithuania',\n",
       "       'Slovenia', 'Romania', 'Latvia', 'Japan', 'Mauritius', 'Jamaica',\n",
       "       'South Korea', 'Northern Cyprus', 'Russia', 'Kazakhstan', 'Cyprus',\n",
       "       'Bolivia', 'Estonia', 'Paraguay', 'Peru', 'Kosovo', 'Moldova',\n",
       "       'Turkmenistan', 'Hungary', 'Libya', 'Philippines', 'Honduras',\n",
       "       'Belarus', 'Turkey', 'Pakistan', 'Hong Kong', 'Portugal', 'Serbia',\n",
       "       'Greece', 'Lebanon', 'Montenegro', 'Croatia', 'Dominican Republic',\n",
       "       'Algeria', 'Morocco', 'China', 'Azerbaijan', 'Tajikistan',\n",
       "       'Macedonia', 'Jordan', 'Nigeria', 'Kyrgyzstan',\n",
       "       'Bosnia and Herzegovina', 'Mongolia', 'Vietnam', 'Indonesia',\n",
       "       'Bhutan', 'Somalia', 'Cameroon', 'Bulgaria', 'Nepal', 'Venezuela',\n",
       "       'Gabon', 'Palestinian Territories', 'South Africa', 'Iran',\n",
       "       'Ivory Coast', 'Ghana', 'Senegal', 'Laos', 'Tunisia', 'Albania',\n",
       "       'Sierra Leone', 'Congo (Brazzaville)', 'Bangladesh', 'Sri Lanka',\n",
       "       'Iraq', 'Mali', 'Namibia', 'Cambodia', 'Burkina Faso', 'Egypt',\n",
       "       'Mozambique', 'Kenya', 'Zambia', 'Mauritania', 'Ethiopia',\n",
       "       'Georgia', 'Armenia', 'Myanmar', 'Chad', 'Congo (Kinshasa)',\n",
       "       'India', 'Niger', 'Uganda', 'Benin', 'Sudan', 'Ukraine', 'Togo',\n",
       "       'Guinea', 'Lesotho', 'Angola', 'Madagascar', 'Zimbabwe',\n",
       "       'Afghanistan', 'Botswana', 'Malawi', 'Haiti', 'Liberia', 'Syria',\n",
       "       'Rwanda', 'Yemen', 'Tanzania', 'South Sudan',\n",
       "       'Central African Republic', 'Burundi'], dtype=object)"
      ]
     },
     "execution_count": 23,
     "metadata": {},
     "output_type": "execute_result"
    }
   ],
   "source": [
    "df_2018['Country or region'].unique()"
   ]
  },
  {
   "cell_type": "markdown",
   "metadata": {},
   "source": [
    "`Country or region` is similar to `Country`. **Maybe it is possible on _feature extraction_ phase to extract the region from the name of countries based on 2015 e 2016 datasets.**"
   ]
  },
  {
   "cell_type": "markdown",
   "metadata": {},
   "source": [
    "### Error and confidence interval\n",
    "\n",
    "Considering that only 2 datasets contain some convidence interval attributes, it is possible _with this data_ to use this columns. **Maybe we could find more data on original dataset** and not from Kaggle Dataset."
   ]
  }
 ],
 "metadata": {
  "interpreter": {
   "hash": "5d8406cfaedcdf0eaa4a44a61b5b4d06f47db5698936240ac59b59333d280fd9"
  },
  "kernelspec": {
   "display_name": "Python 3.10.0 64-bit",
   "language": "python",
   "name": "python3"
  },
  "language_info": {
   "codemirror_mode": {
    "name": "ipython",
    "version": 3
   },
   "file_extension": ".py",
   "mimetype": "text/x-python",
   "name": "python",
   "nbconvert_exporter": "python",
   "pygments_lexer": "ipython3",
   "version": "3.10.0"
  },
  "orig_nbformat": 4
 },
 "nbformat": 4,
 "nbformat_minor": 2
}
