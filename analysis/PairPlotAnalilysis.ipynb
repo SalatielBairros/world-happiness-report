{
 "cells": [
  {
   "cell_type": "markdown",
   "metadata": {},
   "source": [
    "# PLOTAGEM DOS GRÁFICOS EM PAIR PLOT"
   ]
  },
  {
   "cell_type": "markdown",
   "metadata": {},
   "source": [
    "## Anotações"
   ]
  },
  {
   "cell_type": "markdown",
   "metadata": {},
   "source": [
    "- ''"
   ]
  },
  {
   "cell_type": "markdown",
   "metadata": {},
   "source": [
    "## Preparando o ambiente"
   ]
  },
  {
   "cell_type": "code",
   "execution_count": null,
   "metadata": {},
   "outputs": [],
   "source": [
    "import pandas as pd\n",
    "import seaborn as sns\n",
    "import matplotlib.pyplot as plt"
   ]
  },
  {
   "cell_type": "code",
   "execution_count": null,
   "metadata": {},
   "outputs": [],
   "source": [
    "# pd.set_option('display.max_rows', None)"
   ]
  },
  {
   "cell_type": "code",
   "execution_count": null,
   "metadata": {},
   "outputs": [],
   "source": [
    "dataset = pd.read_csv('../data/complete_dataset_region/complete_dataset_region.csv')"
   ]
  },
  {
   "cell_type": "markdown",
   "metadata": {},
   "source": [
    "Todas as métricas numéricas, PairGrid:\n",
    "\n",
    "- Score\n",
    "- GDP\n",
    "- Social support\n",
    "- HLE\n",
    "- Freedom\n",
    "- Generosity\n",
    "- Corruption\n",
    "- Positive affect\n",
    "- Negative affect"
   ]
  },
  {
   "cell_type": "markdown",
   "metadata": {},
   "source": [
    "### AO LONGO DO TEMPO"
   ]
  },
  {
   "cell_type": "code",
   "execution_count": null,
   "metadata": {},
   "outputs": [],
   "source": [
    "\n",
    "data_to_plot = dataset[dataset['year']>2005]\n",
    "\n",
    "fig, axes = plt.subplots(3, 3, figsize=(25, 10))\n",
    "\n",
    "fig.suptitle(\n",
    "  t='Ao longo do tempo',\n",
    "  fontsize=32\n",
    ")\n",
    "\n",
    "\n",
    "sns.lineplot(ax=axes[0, 0], data=data_to_plot, x='year', y='score')\n",
    "axes[0, 0].set_ylabel('Score', fontsize=20)\n",
    "axes[0, 0].set_xlabel('')\n",
    "axes[0, 0].set_ylim(0, 10)\n",
    "\n",
    "sns.lineplot(ax=axes[0, 1], data=data_to_plot, x='year', y='gdp')\n",
    "axes[0, 1].set_ylabel('GDP', fontsize=20)\n",
    "axes[0, 1].set_xlabel('')\n",
    "axes[0, 1].set_ylim(0, 10)\n",
    "\n",
    "sns.lineplot(ax=axes[0, 2], data=data_to_plot, x='year', y='social_support')\n",
    "axes[0, 2].set_ylabel('Social support', fontsize=20)\n",
    "axes[0, 2].set_xlabel('')\n",
    "axes[0, 2].set_ylim(0, 1)\n",
    "\n",
    "sns.lineplot(ax=axes[1, 0], data=data_to_plot, x='year', y='hle')\n",
    "axes[1, 0].set_ylabel('HLE', fontsize=20)\n",
    "axes[1, 0].set_xlabel('')\n",
    "axes[1, 0].set_ylim(0, 10)\n",
    "\n",
    "sns.lineplot(ax=axes[1, 1], data=data_to_plot, x='year', y='freedom')\n",
    "axes[1, 1].set_ylabel('Freedom', fontsize=20)\n",
    "axes[1, 1].set_xlabel('')\n",
    "axes[1, 1].set_ylim(0, 1)\n",
    "\n",
    "sns.lineplot(ax=axes[1, 2], data=data_to_plot, x='year', y='generosity')\n",
    "axes[1, 2].set_ylabel('Generosity', fontsize=20)\n",
    "axes[1, 2].set_xlabel('')\n",
    "axes[1, 2].set_ylim(0, 1)\n",
    "\n",
    "sns.lineplot(ax=axes[2, 0], data=data_to_plot, x='year', y='corruption')\n",
    "axes[2, 0].set_ylabel('Corruption', fontsize=20)\n",
    "axes[2, 0].set_xlabel('')\n",
    "axes[2, 0].set_ylim(0, 1)\n",
    "\n",
    "sns.lineplot(ax=axes[2, 1], data=data_to_plot, x='year', y='positive_affect')\n",
    "axes[2, 1].set_ylabel('Positive affect', fontsize=20)\n",
    "axes[2, 1].set_xlabel('')\n",
    "axes[2, 1].set_ylim(0, 1)\n",
    "\n",
    "sns.lineplot(ax=axes[2, 2], data=data_to_plot, x='year', y='negative_affect')\n",
    "axes[2, 2].set_ylabel('Negative affect', fontsize=20)\n",
    "axes[2, 2].set_xlabel('')\n",
    "axes[2, 2].set_ylim(0, 1)\n"
   ]
  }
 ],
 "metadata": {
  "interpreter": {
   "hash": "916dbcbb3f70747c44a77c7bcd40155683ae19c65e1c03b4aa3499c5328201f1"
  },
  "kernelspec": {
   "display_name": "Python 3.8.10 64-bit",
   "language": "python",
   "name": "python3"
  },
  "language_info": {
   "codemirror_mode": {
    "name": "ipython",
    "version": 3
   },
   "file_extension": ".py",
   "mimetype": "text/x-python",
   "name": "python",
   "nbconvert_exporter": "python",
   "pygments_lexer": "ipython3",
   "version": "3.8.10"
  },
  "orig_nbformat": 4
 },
 "nbformat": 4,
 "nbformat_minor": 2
}
